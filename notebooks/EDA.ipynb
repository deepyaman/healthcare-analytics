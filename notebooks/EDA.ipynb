{
 "cells": [
  {
   "cell_type": "code",
   "execution_count": 1,
   "metadata": {},
   "outputs": [
    {
     "name": "stderr",
     "output_type": "stream",
     "text": [
      "/anaconda3/envs/kedro-session/lib/python3.8/site-packages/ipykernel/ipkernel.py:287: DeprecationWarning: `should_run_async` will not call `transform_cell` automatically in the future. Please pass the result to `transformed_cell` argument and any exception that happen during thetransform in `preprocessing_exc_tuple` in IPython 7.17 and above.\n",
      "  and should_run_async(code)\n"
     ]
    }
   ],
   "source": [
    "from operator import methodcaller\n",
    "\n",
    "import pandas as pd"
   ]
  },
  {
   "cell_type": "markdown",
   "metadata": {},
   "source": [
    "# Load data"
   ]
  },
  {
   "cell_type": "code",
   "execution_count": 2,
   "metadata": {},
   "outputs": [
    {
     "name": "stdout",
     "output_type": "stream",
     "text": [
      "2020-11-17 10:47:52,428 - kedro.io.data_catalog - INFO - Loading data from `raw_third_health_camp_attended` (CSVDataSet)...\n",
      "2020-11-17 10:47:52,437 - kedro.io.data_catalog - INFO - Loading data from `raw_patient_profile` (CSVDataSet)...\n",
      "2020-11-17 10:47:52,562 - kedro.io.data_catalog - INFO - Loading data from `raw_first_health_camp_attended` (CSVDataSet)...\n",
      "2020-11-17 10:47:52,572 - kedro.io.data_catalog - INFO - Loading data from `raw_train` (CSVDataSet)...\n",
      "2020-11-17 10:47:52,719 - kedro.io.data_catalog - INFO - Loading data from `raw_health_camp_detail` (CSVDataSet)...\n",
      "2020-11-17 10:47:52,730 - kedro.io.data_catalog - INFO - Loading data from `raw_test` (CSVDataSet)...\n",
      "2020-11-17 10:47:52,784 - kedro.io.data_catalog - INFO - Loading data from `raw_second_health_camp_attended` (CSVDataSet)...\n"
     ]
    },
    {
     "data": {
      "text/plain": [
       "{'raw_first_health_camp_attended',\n",
       " 'raw_health_camp_detail',\n",
       " 'raw_patient_profile',\n",
       " 'raw_second_health_camp_attended',\n",
       " 'raw_test',\n",
       " 'raw_third_health_camp_attended',\n",
       " 'raw_train'}"
      ]
     },
     "execution_count": 2,
     "metadata": {},
     "output_type": "execute_result"
    }
   ],
   "source": [
    "datasets = {\n",
    "    dataset_name: catalog.load(dataset_name) for dataset_name in catalog.layers[\"raw\"]\n",
    "}\n",
    "set(datasets)"
   ]
  },
  {
   "cell_type": "markdown",
   "metadata": {},
   "source": [
    "# Explore data"
   ]
  },
  {
   "cell_type": "code",
   "execution_count": 3,
   "metadata": {},
   "outputs": [
    {
     "data": {
      "text/html": [
       "<div>\n",
       "<style scoped>\n",
       "    .dataframe tbody tr th:only-of-type {\n",
       "        vertical-align: middle;\n",
       "    }\n",
       "\n",
       "    .dataframe tbody tr th {\n",
       "        vertical-align: top;\n",
       "    }\n",
       "\n",
       "    .dataframe thead th {\n",
       "        text-align: right;\n",
       "    }\n",
       "</style>\n",
       "<table border=\"1\" class=\"dataframe\">\n",
       "  <thead>\n",
       "    <tr style=\"text-align: right;\">\n",
       "      <th></th>\n",
       "      <th></th>\n",
       "      <th>Registration_Date</th>\n",
       "      <th>Var1</th>\n",
       "      <th>Var2</th>\n",
       "      <th>Var3</th>\n",
       "      <th>Var4</th>\n",
       "      <th>Var5</th>\n",
       "    </tr>\n",
       "    <tr>\n",
       "      <th>Patient_ID</th>\n",
       "      <th>Health_Camp_ID</th>\n",
       "      <th></th>\n",
       "      <th></th>\n",
       "      <th></th>\n",
       "      <th></th>\n",
       "      <th></th>\n",
       "      <th></th>\n",
       "    </tr>\n",
       "  </thead>\n",
       "  <tbody>\n",
       "    <tr>\n",
       "      <th>489652</th>\n",
       "      <th>6578</th>\n",
       "      <td>2005-09-10</td>\n",
       "      <td>4</td>\n",
       "      <td>0</td>\n",
       "      <td>0</td>\n",
       "      <td>0</td>\n",
       "      <td>2</td>\n",
       "    </tr>\n",
       "    <tr>\n",
       "      <th>507246</th>\n",
       "      <th>6578</th>\n",
       "      <td>2005-08-18</td>\n",
       "      <td>45</td>\n",
       "      <td>5</td>\n",
       "      <td>0</td>\n",
       "      <td>0</td>\n",
       "      <td>7</td>\n",
       "    </tr>\n",
       "    <tr>\n",
       "      <th>523729</th>\n",
       "      <th>6534</th>\n",
       "      <td>2006-04-29</td>\n",
       "      <td>0</td>\n",
       "      <td>0</td>\n",
       "      <td>0</td>\n",
       "      <td>0</td>\n",
       "      <td>0</td>\n",
       "    </tr>\n",
       "    <tr>\n",
       "      <th>524931</th>\n",
       "      <th>6535</th>\n",
       "      <td>2004-02-07</td>\n",
       "      <td>0</td>\n",
       "      <td>0</td>\n",
       "      <td>0</td>\n",
       "      <td>0</td>\n",
       "      <td>0</td>\n",
       "    </tr>\n",
       "    <tr>\n",
       "      <th>521364</th>\n",
       "      <th>6529</th>\n",
       "      <td>2006-02-28</td>\n",
       "      <td>15</td>\n",
       "      <td>1</td>\n",
       "      <td>0</td>\n",
       "      <td>0</td>\n",
       "      <td>7</td>\n",
       "    </tr>\n",
       "    <tr>\n",
       "      <th>...</th>\n",
       "      <th>...</th>\n",
       "      <td>...</td>\n",
       "      <td>...</td>\n",
       "      <td>...</td>\n",
       "      <td>...</td>\n",
       "      <td>...</td>\n",
       "      <td>...</td>\n",
       "    </tr>\n",
       "    <tr>\n",
       "      <th>500969</th>\n",
       "      <th>6539</th>\n",
       "      <td>2005-01-03</td>\n",
       "      <td>0</td>\n",
       "      <td>0</td>\n",
       "      <td>0</td>\n",
       "      <td>0</td>\n",
       "      <td>0</td>\n",
       "    </tr>\n",
       "    <tr>\n",
       "      <th>511952</th>\n",
       "      <th>6528</th>\n",
       "      <td>2006-02-13</td>\n",
       "      <td>0</td>\n",
       "      <td>0</td>\n",
       "      <td>0</td>\n",
       "      <td>0</td>\n",
       "      <td>0</td>\n",
       "    </tr>\n",
       "    <tr>\n",
       "      <th>521236</th>\n",
       "      <th>6554</th>\n",
       "      <td>2005-05-24</td>\n",
       "      <td>0</td>\n",
       "      <td>0</td>\n",
       "      <td>0</td>\n",
       "      <td>0</td>\n",
       "      <td>0</td>\n",
       "    </tr>\n",
       "    <tr>\n",
       "      <th>518817</th>\n",
       "      <th>6580</th>\n",
       "      <td>2004-12-22</td>\n",
       "      <td>0</td>\n",
       "      <td>0</td>\n",
       "      <td>0</td>\n",
       "      <td>0</td>\n",
       "      <td>0</td>\n",
       "    </tr>\n",
       "    <tr>\n",
       "      <th>511284</th>\n",
       "      <th>6555</th>\n",
       "      <td>2005-08-08</td>\n",
       "      <td>0</td>\n",
       "      <td>0</td>\n",
       "      <td>0</td>\n",
       "      <td>0</td>\n",
       "      <td>0</td>\n",
       "    </tr>\n",
       "  </tbody>\n",
       "</table>\n",
       "<p>75278 rows × 6 columns</p>\n",
       "</div>"
      ],
      "text/plain": [
       "                          Registration_Date  Var1  Var2  Var3  Var4  Var5\n",
       "Patient_ID Health_Camp_ID                                                \n",
       "489652     6578                  2005-09-10     4     0     0     0     2\n",
       "507246     6578                  2005-08-18    45     5     0     0     7\n",
       "523729     6534                  2006-04-29     0     0     0     0     0\n",
       "524931     6535                  2004-02-07     0     0     0     0     0\n",
       "521364     6529                  2006-02-28    15     1     0     0     7\n",
       "...                                     ...   ...   ...   ...   ...   ...\n",
       "500969     6539                  2005-01-03     0     0     0     0     0\n",
       "511952     6528                  2006-02-13     0     0     0     0     0\n",
       "521236     6554                  2005-05-24     0     0     0     0     0\n",
       "518817     6580                  2004-12-22     0     0     0     0     0\n",
       "511284     6555                  2005-08-08     0     0     0     0     0\n",
       "\n",
       "[75278 rows x 6 columns]"
      ]
     },
     "execution_count": 3,
     "metadata": {},
     "output_type": "execute_result"
    }
   ],
   "source": [
    "datasets[\"raw_train\"]"
   ]
  },
  {
   "cell_type": "code",
   "execution_count": 4,
   "metadata": {},
   "outputs": [
    {
     "name": "stderr",
     "output_type": "stream",
     "text": [
      "/anaconda3/envs/kedro-session/lib/python3.8/site-packages/ipykernel/ipkernel.py:287: DeprecationWarning: `should_run_async` will not call `transform_cell` automatically in the future. Please pass the result to `transformed_cell` argument and any exception that happen during thetransform in `preprocessing_exc_tuple` in IPython 7.17 and above.\n",
      "  and should_run_async(code)\n",
      "<ipython-input-4-711a9de6b3bb>:1: FutureWarning: Treating datetime data as categorical rather than numeric in `.describe` is deprecated and will be removed in a future version of pandas. Specify `datetime_is_numeric=True` to silence this warning and adopt the future behavior now.\n",
      "  datasets[\"raw_train\"].describe(include=\"all\")\n"
     ]
    },
    {
     "data": {
      "text/html": [
       "<div>\n",
       "<style scoped>\n",
       "    .dataframe tbody tr th:only-of-type {\n",
       "        vertical-align: middle;\n",
       "    }\n",
       "\n",
       "    .dataframe tbody tr th {\n",
       "        vertical-align: top;\n",
       "    }\n",
       "\n",
       "    .dataframe thead th {\n",
       "        text-align: right;\n",
       "    }\n",
       "</style>\n",
       "<table border=\"1\" class=\"dataframe\">\n",
       "  <thead>\n",
       "    <tr style=\"text-align: right;\">\n",
       "      <th></th>\n",
       "      <th>Registration_Date</th>\n",
       "      <th>Var1</th>\n",
       "      <th>Var2</th>\n",
       "      <th>Var3</th>\n",
       "      <th>Var4</th>\n",
       "      <th>Var5</th>\n",
       "    </tr>\n",
       "  </thead>\n",
       "  <tbody>\n",
       "    <tr>\n",
       "      <th>count</th>\n",
       "      <td>74944</td>\n",
       "      <td>75278.000000</td>\n",
       "      <td>75278.000000</td>\n",
       "      <td>75278.000000</td>\n",
       "      <td>75278.000000</td>\n",
       "      <td>75278.000000</td>\n",
       "    </tr>\n",
       "    <tr>\n",
       "      <th>unique</th>\n",
       "      <td>1201</td>\n",
       "      <td>NaN</td>\n",
       "      <td>NaN</td>\n",
       "      <td>NaN</td>\n",
       "      <td>NaN</td>\n",
       "      <td>NaN</td>\n",
       "    </tr>\n",
       "    <tr>\n",
       "      <th>top</th>\n",
       "      <td>2006-03-28 00:00:00</td>\n",
       "      <td>NaN</td>\n",
       "      <td>NaN</td>\n",
       "      <td>NaN</td>\n",
       "      <td>NaN</td>\n",
       "      <td>NaN</td>\n",
       "    </tr>\n",
       "    <tr>\n",
       "      <th>freq</th>\n",
       "      <td>868</td>\n",
       "      <td>NaN</td>\n",
       "      <td>NaN</td>\n",
       "      <td>NaN</td>\n",
       "      <td>NaN</td>\n",
       "      <td>NaN</td>\n",
       "    </tr>\n",
       "    <tr>\n",
       "      <th>first</th>\n",
       "      <td>2003-10-19 00:00:00</td>\n",
       "      <td>NaN</td>\n",
       "      <td>NaN</td>\n",
       "      <td>NaN</td>\n",
       "      <td>NaN</td>\n",
       "      <td>NaN</td>\n",
       "    </tr>\n",
       "    <tr>\n",
       "      <th>last</th>\n",
       "      <td>2007-02-09 00:00:00</td>\n",
       "      <td>NaN</td>\n",
       "      <td>NaN</td>\n",
       "      <td>NaN</td>\n",
       "      <td>NaN</td>\n",
       "      <td>NaN</td>\n",
       "    </tr>\n",
       "    <tr>\n",
       "      <th>mean</th>\n",
       "      <td>NaN</td>\n",
       "      <td>0.796156</td>\n",
       "      <td>0.238556</td>\n",
       "      <td>0.000385</td>\n",
       "      <td>0.022424</td>\n",
       "      <td>0.248386</td>\n",
       "    </tr>\n",
       "    <tr>\n",
       "      <th>std</th>\n",
       "      <td>NaN</td>\n",
       "      <td>7.626687</td>\n",
       "      <td>3.769594</td>\n",
       "      <td>0.019624</td>\n",
       "      <td>0.199570</td>\n",
       "      <td>1.213938</td>\n",
       "    </tr>\n",
       "    <tr>\n",
       "      <th>min</th>\n",
       "      <td>NaN</td>\n",
       "      <td>0.000000</td>\n",
       "      <td>0.000000</td>\n",
       "      <td>0.000000</td>\n",
       "      <td>0.000000</td>\n",
       "      <td>0.000000</td>\n",
       "    </tr>\n",
       "    <tr>\n",
       "      <th>25%</th>\n",
       "      <td>NaN</td>\n",
       "      <td>0.000000</td>\n",
       "      <td>0.000000</td>\n",
       "      <td>0.000000</td>\n",
       "      <td>0.000000</td>\n",
       "      <td>0.000000</td>\n",
       "    </tr>\n",
       "    <tr>\n",
       "      <th>50%</th>\n",
       "      <td>NaN</td>\n",
       "      <td>0.000000</td>\n",
       "      <td>0.000000</td>\n",
       "      <td>0.000000</td>\n",
       "      <td>0.000000</td>\n",
       "      <td>0.000000</td>\n",
       "    </tr>\n",
       "    <tr>\n",
       "      <th>75%</th>\n",
       "      <td>NaN</td>\n",
       "      <td>0.000000</td>\n",
       "      <td>0.000000</td>\n",
       "      <td>0.000000</td>\n",
       "      <td>0.000000</td>\n",
       "      <td>0.000000</td>\n",
       "    </tr>\n",
       "    <tr>\n",
       "      <th>max</th>\n",
       "      <td>NaN</td>\n",
       "      <td>288.000000</td>\n",
       "      <td>156.000000</td>\n",
       "      <td>1.000000</td>\n",
       "      <td>4.000000</td>\n",
       "      <td>31.000000</td>\n",
       "    </tr>\n",
       "  </tbody>\n",
       "</table>\n",
       "</div>"
      ],
      "text/plain": [
       "          Registration_Date          Var1          Var2          Var3  \\\n",
       "count                 74944  75278.000000  75278.000000  75278.000000   \n",
       "unique                 1201           NaN           NaN           NaN   \n",
       "top     2006-03-28 00:00:00           NaN           NaN           NaN   \n",
       "freq                    868           NaN           NaN           NaN   \n",
       "first   2003-10-19 00:00:00           NaN           NaN           NaN   \n",
       "last    2007-02-09 00:00:00           NaN           NaN           NaN   \n",
       "mean                    NaN      0.796156      0.238556      0.000385   \n",
       "std                     NaN      7.626687      3.769594      0.019624   \n",
       "min                     NaN      0.000000      0.000000      0.000000   \n",
       "25%                     NaN      0.000000      0.000000      0.000000   \n",
       "50%                     NaN      0.000000      0.000000      0.000000   \n",
       "75%                     NaN      0.000000      0.000000      0.000000   \n",
       "max                     NaN    288.000000    156.000000      1.000000   \n",
       "\n",
       "                Var4          Var5  \n",
       "count   75278.000000  75278.000000  \n",
       "unique           NaN           NaN  \n",
       "top              NaN           NaN  \n",
       "freq             NaN           NaN  \n",
       "first            NaN           NaN  \n",
       "last             NaN           NaN  \n",
       "mean        0.022424      0.248386  \n",
       "std         0.199570      1.213938  \n",
       "min         0.000000      0.000000  \n",
       "25%         0.000000      0.000000  \n",
       "50%         0.000000      0.000000  \n",
       "75%         0.000000      0.000000  \n",
       "max         4.000000     31.000000  "
      ]
     },
     "execution_count": 4,
     "metadata": {},
     "output_type": "execute_result"
    }
   ],
   "source": [
    "datasets[\"raw_train\"].describe(include=\"all\")"
   ]
  },
  {
   "cell_type": "markdown",
   "metadata": {},
   "source": [
    "\"Camps started on or before 31st March 2006 are considered in Train,\" so why is `Registration_date` frequently after 31st March 2006? "
   ]
  },
  {
   "cell_type": "code",
   "execution_count": 5,
   "metadata": {},
   "outputs": [
    {
     "name": "stderr",
     "output_type": "stream",
     "text": [
      "/anaconda3/envs/kedro-session/lib/python3.8/site-packages/ipykernel/ipkernel.py:287: DeprecationWarning: `should_run_async` will not call `transform_cell` automatically in the future. Please pass the result to `transformed_cell` argument and any exception that happen during thetransform in `preprocessing_exc_tuple` in IPython 7.17 and above.\n",
      "  and should_run_async(code)\n"
     ]
    },
    {
     "data": {
      "text/plain": [
       "False    66382\n",
       "True      8896\n",
       "Name: Registration_Date, dtype: int64"
      ]
     },
     "execution_count": 5,
     "metadata": {},
     "output_type": "execute_result"
    }
   ],
   "source": [
    "(datasets[\"raw_train\"].Registration_Date > pd.to_datetime(\"3/31/2006\")).value_counts(dropna=False)"
   ]
  },
  {
   "cell_type": "code",
   "execution_count": 6,
   "metadata": {},
   "outputs": [
    {
     "name": "stderr",
     "output_type": "stream",
     "text": [
      "/anaconda3/envs/kedro-session/lib/python3.8/site-packages/ipykernel/ipkernel.py:287: DeprecationWarning: `should_run_async` will not call `transform_cell` automatically in the future. Please pass the result to `transformed_cell` argument and any exception that happen during thetransform in `preprocessing_exc_tuple` in IPython 7.17 and above.\n",
      "  and should_run_async(code)\n"
     ]
    },
    {
     "data": {
      "text/html": [
       "<div>\n",
       "<style scoped>\n",
       "    .dataframe tbody tr th:only-of-type {\n",
       "        vertical-align: middle;\n",
       "    }\n",
       "\n",
       "    .dataframe tbody tr th {\n",
       "        vertical-align: top;\n",
       "    }\n",
       "\n",
       "    .dataframe thead th {\n",
       "        text-align: right;\n",
       "    }\n",
       "</style>\n",
       "<table border=\"1\" class=\"dataframe\">\n",
       "  <thead>\n",
       "    <tr style=\"text-align: right;\">\n",
       "      <th></th>\n",
       "      <th>Var1</th>\n",
       "      <th>Var2</th>\n",
       "      <th>Var3</th>\n",
       "      <th>Var4</th>\n",
       "      <th>Var5</th>\n",
       "    </tr>\n",
       "  </thead>\n",
       "  <tbody>\n",
       "    <tr>\n",
       "      <th>0</th>\n",
       "      <td>0.895946</td>\n",
       "      <td>0.967507</td>\n",
       "      <td>0.999615</td>\n",
       "      <td>0.984803</td>\n",
       "      <td>0.920867</td>\n",
       "    </tr>\n",
       "    <tr>\n",
       "      <th>1</th>\n",
       "      <td>0.034565</td>\n",
       "      <td>0.013111</td>\n",
       "      <td>0.000385</td>\n",
       "      <td>0.009525</td>\n",
       "      <td>0.028707</td>\n",
       "    </tr>\n",
       "    <tr>\n",
       "      <th>2</th>\n",
       "      <td>0.018372</td>\n",
       "      <td>0.007041</td>\n",
       "      <td>NaN</td>\n",
       "      <td>0.004291</td>\n",
       "      <td>0.015091</td>\n",
       "    </tr>\n",
       "    <tr>\n",
       "      <th>3</th>\n",
       "      <td>0.014373</td>\n",
       "      <td>0.003773</td>\n",
       "      <td>NaN</td>\n",
       "      <td>0.001209</td>\n",
       "      <td>0.012288</td>\n",
       "    </tr>\n",
       "    <tr>\n",
       "      <th>4</th>\n",
       "      <td>0.007506</td>\n",
       "      <td>0.001355</td>\n",
       "      <td>NaN</td>\n",
       "      <td>0.000173</td>\n",
       "      <td>0.007426</td>\n",
       "    </tr>\n",
       "    <tr>\n",
       "      <th>...</th>\n",
       "      <td>...</td>\n",
       "      <td>...</td>\n",
       "      <td>...</td>\n",
       "      <td>...</td>\n",
       "      <td>...</td>\n",
       "    </tr>\n",
       "    <tr>\n",
       "      <th>259</th>\n",
       "      <td>0.000013</td>\n",
       "      <td>NaN</td>\n",
       "      <td>NaN</td>\n",
       "      <td>NaN</td>\n",
       "      <td>NaN</td>\n",
       "    </tr>\n",
       "    <tr>\n",
       "      <th>271</th>\n",
       "      <td>0.000027</td>\n",
       "      <td>NaN</td>\n",
       "      <td>NaN</td>\n",
       "      <td>NaN</td>\n",
       "      <td>NaN</td>\n",
       "    </tr>\n",
       "    <tr>\n",
       "      <th>277</th>\n",
       "      <td>0.000013</td>\n",
       "      <td>NaN</td>\n",
       "      <td>NaN</td>\n",
       "      <td>NaN</td>\n",
       "      <td>NaN</td>\n",
       "    </tr>\n",
       "    <tr>\n",
       "      <th>286</th>\n",
       "      <td>0.000027</td>\n",
       "      <td>NaN</td>\n",
       "      <td>NaN</td>\n",
       "      <td>NaN</td>\n",
       "      <td>NaN</td>\n",
       "    </tr>\n",
       "    <tr>\n",
       "      <th>288</th>\n",
       "      <td>0.000027</td>\n",
       "      <td>NaN</td>\n",
       "      <td>NaN</td>\n",
       "      <td>NaN</td>\n",
       "      <td>NaN</td>\n",
       "    </tr>\n",
       "  </tbody>\n",
       "</table>\n",
       "<p>158 rows × 5 columns</p>\n",
       "</div>"
      ],
      "text/plain": [
       "         Var1      Var2      Var3      Var4      Var5\n",
       "0    0.895946  0.967507  0.999615  0.984803  0.920867\n",
       "1    0.034565  0.013111  0.000385  0.009525  0.028707\n",
       "2    0.018372  0.007041       NaN  0.004291  0.015091\n",
       "3    0.014373  0.003773       NaN  0.001209  0.012288\n",
       "4    0.007506  0.001355       NaN  0.000173  0.007426\n",
       "..        ...       ...       ...       ...       ...\n",
       "259  0.000013       NaN       NaN       NaN       NaN\n",
       "271  0.000027       NaN       NaN       NaN       NaN\n",
       "277  0.000013       NaN       NaN       NaN       NaN\n",
       "286  0.000027       NaN       NaN       NaN       NaN\n",
       "288  0.000027       NaN       NaN       NaN       NaN\n",
       "\n",
       "[158 rows x 5 columns]"
      ]
     },
     "execution_count": 6,
     "metadata": {},
     "output_type": "execute_result"
    }
   ],
   "source": [
    "datasets[\"raw_train\"].iloc[:, 1:].apply(\n",
    "    methodcaller(\"value_counts\", dropna=False)\n",
    ") / len(datasets[\"raw_train\"])"
   ]
  },
  {
   "cell_type": "code",
   "execution_count": 7,
   "metadata": {},
   "outputs": [
    {
     "data": {
      "text/html": [
       "<div>\n",
       "<style scoped>\n",
       "    .dataframe tbody tr th:only-of-type {\n",
       "        vertical-align: middle;\n",
       "    }\n",
       "\n",
       "    .dataframe tbody tr th {\n",
       "        vertical-align: top;\n",
       "    }\n",
       "\n",
       "    .dataframe thead th {\n",
       "        text-align: right;\n",
       "    }\n",
       "</style>\n",
       "<table border=\"1\" class=\"dataframe\">\n",
       "  <thead>\n",
       "    <tr style=\"text-align: right;\">\n",
       "      <th></th>\n",
       "      <th></th>\n",
       "      <th>Registration_Date</th>\n",
       "      <th>Var1</th>\n",
       "      <th>Var2</th>\n",
       "      <th>Var3</th>\n",
       "      <th>Var4</th>\n",
       "      <th>Var5</th>\n",
       "    </tr>\n",
       "    <tr>\n",
       "      <th>Patient_ID</th>\n",
       "      <th>Health_Camp_ID</th>\n",
       "      <th></th>\n",
       "      <th></th>\n",
       "      <th></th>\n",
       "      <th></th>\n",
       "      <th></th>\n",
       "      <th></th>\n",
       "    </tr>\n",
       "  </thead>\n",
       "  <tbody>\n",
       "    <tr>\n",
       "      <th>505701</th>\n",
       "      <th>6548</th>\n",
       "      <td>2006-05-21</td>\n",
       "      <td>1</td>\n",
       "      <td>0</td>\n",
       "      <td>0</td>\n",
       "      <td>0</td>\n",
       "      <td>2</td>\n",
       "    </tr>\n",
       "    <tr>\n",
       "      <th>500633</th>\n",
       "      <th>6584</th>\n",
       "      <td>2006-06-02</td>\n",
       "      <td>0</td>\n",
       "      <td>0</td>\n",
       "      <td>0</td>\n",
       "      <td>0</td>\n",
       "      <td>0</td>\n",
       "    </tr>\n",
       "    <tr>\n",
       "      <th>506945</th>\n",
       "      <th>6582</th>\n",
       "      <td>2006-08-10</td>\n",
       "      <td>0</td>\n",
       "      <td>0</td>\n",
       "      <td>0</td>\n",
       "      <td>0</td>\n",
       "      <td>0</td>\n",
       "    </tr>\n",
       "    <tr>\n",
       "      <th>497447</th>\n",
       "      <th>6551</th>\n",
       "      <td>2006-08-27</td>\n",
       "      <td>0</td>\n",
       "      <td>0</td>\n",
       "      <td>0</td>\n",
       "      <td>0</td>\n",
       "      <td>0</td>\n",
       "    </tr>\n",
       "    <tr>\n",
       "      <th>496446</th>\n",
       "      <th>6533</th>\n",
       "      <td>2006-09-19</td>\n",
       "      <td>0</td>\n",
       "      <td>0</td>\n",
       "      <td>0</td>\n",
       "      <td>0</td>\n",
       "      <td>0</td>\n",
       "    </tr>\n",
       "    <tr>\n",
       "      <th>...</th>\n",
       "      <th>...</th>\n",
       "      <td>...</td>\n",
       "      <td>...</td>\n",
       "      <td>...</td>\n",
       "      <td>...</td>\n",
       "      <td>...</td>\n",
       "      <td>...</td>\n",
       "    </tr>\n",
       "    <tr>\n",
       "      <th>507261</th>\n",
       "      <th>6525</th>\n",
       "      <td>2006-04-13</td>\n",
       "      <td>12</td>\n",
       "      <td>2</td>\n",
       "      <td>0</td>\n",
       "      <td>0</td>\n",
       "      <td>6</td>\n",
       "    </tr>\n",
       "    <tr>\n",
       "      <th>513607</th>\n",
       "      <th>6551</th>\n",
       "      <td>2006-11-03</td>\n",
       "      <td>0</td>\n",
       "      <td>0</td>\n",
       "      <td>0</td>\n",
       "      <td>0</td>\n",
       "      <td>0</td>\n",
       "    </tr>\n",
       "    <tr>\n",
       "      <th>498160</th>\n",
       "      <th>6584</th>\n",
       "      <td>2006-06-17</td>\n",
       "      <td>0</td>\n",
       "      <td>0</td>\n",
       "      <td>0</td>\n",
       "      <td>0</td>\n",
       "      <td>0</td>\n",
       "    </tr>\n",
       "    <tr>\n",
       "      <th>502444</th>\n",
       "      <th>6567</th>\n",
       "      <td>2007-01-13</td>\n",
       "      <td>0</td>\n",
       "      <td>0</td>\n",
       "      <td>0</td>\n",
       "      <td>0</td>\n",
       "      <td>0</td>\n",
       "    </tr>\n",
       "    <tr>\n",
       "      <th>523811</th>\n",
       "      <th>6584</th>\n",
       "      <td>2006-06-16</td>\n",
       "      <td>4</td>\n",
       "      <td>3</td>\n",
       "      <td>0</td>\n",
       "      <td>2</td>\n",
       "      <td>4</td>\n",
       "    </tr>\n",
       "  </tbody>\n",
       "</table>\n",
       "<p>35249 rows × 6 columns</p>\n",
       "</div>"
      ],
      "text/plain": [
       "                          Registration_Date  Var1  Var2  Var3  Var4  Var5\n",
       "Patient_ID Health_Camp_ID                                                \n",
       "505701     6548                  2006-05-21     1     0     0     0     2\n",
       "500633     6584                  2006-06-02     0     0     0     0     0\n",
       "506945     6582                  2006-08-10     0     0     0     0     0\n",
       "497447     6551                  2006-08-27     0     0     0     0     0\n",
       "496446     6533                  2006-09-19     0     0     0     0     0\n",
       "...                                     ...   ...   ...   ...   ...   ...\n",
       "507261     6525                  2006-04-13    12     2     0     0     6\n",
       "513607     6551                  2006-11-03     0     0     0     0     0\n",
       "498160     6584                  2006-06-17     0     0     0     0     0\n",
       "502444     6567                  2007-01-13     0     0     0     0     0\n",
       "523811     6584                  2006-06-16     4     3     0     2     4\n",
       "\n",
       "[35249 rows x 6 columns]"
      ]
     },
     "execution_count": 7,
     "metadata": {},
     "output_type": "execute_result"
    }
   ],
   "source": [
    "datasets[\"raw_test\"]"
   ]
  },
  {
   "cell_type": "code",
   "execution_count": 8,
   "metadata": {},
   "outputs": [
    {
     "name": "stderr",
     "output_type": "stream",
     "text": [
      "/anaconda3/envs/kedro-session/lib/python3.8/site-packages/ipykernel/ipkernel.py:287: DeprecationWarning: `should_run_async` will not call `transform_cell` automatically in the future. Please pass the result to `transformed_cell` argument and any exception that happen during thetransform in `preprocessing_exc_tuple` in IPython 7.17 and above.\n",
      "  and should_run_async(code)\n",
      "<ipython-input-7-067155d123fb>:1: FutureWarning: Treating datetime data as categorical rather than numeric in `.describe` is deprecated and will be removed in a future version of pandas. Specify `datetime_is_numeric=True` to silence this warning and adopt the future behavior now.\n",
      "  datasets[\"raw_test\"].describe(include=\"all\")\n"
     ]
    },
    {
     "data": {
      "text/html": [
       "<div>\n",
       "<style scoped>\n",
       "    .dataframe tbody tr th:only-of-type {\n",
       "        vertical-align: middle;\n",
       "    }\n",
       "\n",
       "    .dataframe tbody tr th {\n",
       "        vertical-align: top;\n",
       "    }\n",
       "\n",
       "    .dataframe thead th {\n",
       "        text-align: right;\n",
       "    }\n",
       "</style>\n",
       "<table border=\"1\" class=\"dataframe\">\n",
       "  <thead>\n",
       "    <tr style=\"text-align: right;\">\n",
       "      <th></th>\n",
       "      <th>Registration_Date</th>\n",
       "      <th>Var1</th>\n",
       "      <th>Var2</th>\n",
       "      <th>Var3</th>\n",
       "      <th>Var4</th>\n",
       "      <th>Var5</th>\n",
       "    </tr>\n",
       "  </thead>\n",
       "  <tbody>\n",
       "    <tr>\n",
       "      <th>count</th>\n",
       "      <td>35249</td>\n",
       "      <td>35249.000000</td>\n",
       "      <td>35249.000000</td>\n",
       "      <td>35249.000000</td>\n",
       "      <td>35249.000000</td>\n",
       "      <td>35249.000000</td>\n",
       "    </tr>\n",
       "    <tr>\n",
       "      <th>unique</th>\n",
       "      <td>375</td>\n",
       "      <td>NaN</td>\n",
       "      <td>NaN</td>\n",
       "      <td>NaN</td>\n",
       "      <td>NaN</td>\n",
       "      <td>NaN</td>\n",
       "    </tr>\n",
       "    <tr>\n",
       "      <th>top</th>\n",
       "      <td>2006-09-18 00:00:00</td>\n",
       "      <td>NaN</td>\n",
       "      <td>NaN</td>\n",
       "      <td>NaN</td>\n",
       "      <td>NaN</td>\n",
       "      <td>NaN</td>\n",
       "    </tr>\n",
       "    <tr>\n",
       "      <th>freq</th>\n",
       "      <td>632</td>\n",
       "      <td>NaN</td>\n",
       "      <td>NaN</td>\n",
       "      <td>NaN</td>\n",
       "      <td>NaN</td>\n",
       "      <td>NaN</td>\n",
       "    </tr>\n",
       "    <tr>\n",
       "      <th>first</th>\n",
       "      <td>2006-01-31 00:00:00</td>\n",
       "      <td>NaN</td>\n",
       "      <td>NaN</td>\n",
       "      <td>NaN</td>\n",
       "      <td>NaN</td>\n",
       "      <td>NaN</td>\n",
       "    </tr>\n",
       "    <tr>\n",
       "      <th>last</th>\n",
       "      <td>2007-02-09 00:00:00</td>\n",
       "      <td>NaN</td>\n",
       "      <td>NaN</td>\n",
       "      <td>NaN</td>\n",
       "      <td>NaN</td>\n",
       "      <td>NaN</td>\n",
       "    </tr>\n",
       "    <tr>\n",
       "      <th>mean</th>\n",
       "      <td>NaN</td>\n",
       "      <td>0.819201</td>\n",
       "      <td>0.253312</td>\n",
       "      <td>0.000567</td>\n",
       "      <td>0.041845</td>\n",
       "      <td>0.258163</td>\n",
       "    </tr>\n",
       "    <tr>\n",
       "      <th>std</th>\n",
       "      <td>NaN</td>\n",
       "      <td>8.298817</td>\n",
       "      <td>3.984690</td>\n",
       "      <td>0.023814</td>\n",
       "      <td>0.268826</td>\n",
       "      <td>1.311230</td>\n",
       "    </tr>\n",
       "    <tr>\n",
       "      <th>min</th>\n",
       "      <td>NaN</td>\n",
       "      <td>0.000000</td>\n",
       "      <td>0.000000</td>\n",
       "      <td>0.000000</td>\n",
       "      <td>0.000000</td>\n",
       "      <td>0.000000</td>\n",
       "    </tr>\n",
       "    <tr>\n",
       "      <th>25%</th>\n",
       "      <td>NaN</td>\n",
       "      <td>0.000000</td>\n",
       "      <td>0.000000</td>\n",
       "      <td>0.000000</td>\n",
       "      <td>0.000000</td>\n",
       "      <td>0.000000</td>\n",
       "    </tr>\n",
       "    <tr>\n",
       "      <th>50%</th>\n",
       "      <td>NaN</td>\n",
       "      <td>0.000000</td>\n",
       "      <td>0.000000</td>\n",
       "      <td>0.000000</td>\n",
       "      <td>0.000000</td>\n",
       "      <td>0.000000</td>\n",
       "    </tr>\n",
       "    <tr>\n",
       "      <th>75%</th>\n",
       "      <td>NaN</td>\n",
       "      <td>0.000000</td>\n",
       "      <td>0.000000</td>\n",
       "      <td>0.000000</td>\n",
       "      <td>0.000000</td>\n",
       "      <td>0.000000</td>\n",
       "    </tr>\n",
       "    <tr>\n",
       "      <th>max</th>\n",
       "      <td>NaN</td>\n",
       "      <td>344.000000</td>\n",
       "      <td>181.000000</td>\n",
       "      <td>1.000000</td>\n",
       "      <td>8.000000</td>\n",
       "      <td>34.000000</td>\n",
       "    </tr>\n",
       "  </tbody>\n",
       "</table>\n",
       "</div>"
      ],
      "text/plain": [
       "          Registration_Date          Var1          Var2          Var3  \\\n",
       "count                 35249  35249.000000  35249.000000  35249.000000   \n",
       "unique                  375           NaN           NaN           NaN   \n",
       "top     2006-09-18 00:00:00           NaN           NaN           NaN   \n",
       "freq                    632           NaN           NaN           NaN   \n",
       "first   2006-01-31 00:00:00           NaN           NaN           NaN   \n",
       "last    2007-02-09 00:00:00           NaN           NaN           NaN   \n",
       "mean                    NaN      0.819201      0.253312      0.000567   \n",
       "std                     NaN      8.298817      3.984690      0.023814   \n",
       "min                     NaN      0.000000      0.000000      0.000000   \n",
       "25%                     NaN      0.000000      0.000000      0.000000   \n",
       "50%                     NaN      0.000000      0.000000      0.000000   \n",
       "75%                     NaN      0.000000      0.000000      0.000000   \n",
       "max                     NaN    344.000000    181.000000      1.000000   \n",
       "\n",
       "                Var4          Var5  \n",
       "count   35249.000000  35249.000000  \n",
       "unique           NaN           NaN  \n",
       "top              NaN           NaN  \n",
       "freq             NaN           NaN  \n",
       "first            NaN           NaN  \n",
       "last             NaN           NaN  \n",
       "mean        0.041845      0.258163  \n",
       "std         0.268826      1.311230  \n",
       "min         0.000000      0.000000  \n",
       "25%         0.000000      0.000000  \n",
       "50%         0.000000      0.000000  \n",
       "75%         0.000000      0.000000  \n",
       "max         8.000000     34.000000  "
      ]
     },
     "execution_count": 8,
     "metadata": {},
     "output_type": "execute_result"
    }
   ],
   "source": [
    "datasets[\"raw_test\"].describe(include=\"all\")"
   ]
  },
  {
   "cell_type": "code",
   "execution_count": 9,
   "metadata": {},
   "outputs": [
    {
     "name": "stderr",
     "output_type": "stream",
     "text": [
      "/anaconda3/envs/kedro-session/lib/python3.8/site-packages/ipykernel/ipkernel.py:287: DeprecationWarning: `should_run_async` will not call `transform_cell` automatically in the future. Please pass the result to `transformed_cell` argument and any exception that happen during thetransform in `preprocessing_exc_tuple` in IPython 7.17 and above.\n",
      "  and should_run_async(code)\n"
     ]
    },
    {
     "data": {
      "text/plain": [
       "True     66048\n",
       "False     9230\n",
       "Name: Registration_Date, dtype: int64"
      ]
     },
     "execution_count": 9,
     "metadata": {},
     "output_type": "execute_result"
    }
   ],
   "source": [
    "(datasets[\"raw_train\"].Registration_Date <= pd.to_datetime(\"3/31/2006\")).value_counts(dropna=False)"
   ]
  },
  {
   "cell_type": "code",
   "execution_count": 10,
   "metadata": {},
   "outputs": [
    {
     "data": {
      "text/html": [
       "<div>\n",
       "<style scoped>\n",
       "    .dataframe tbody tr th:only-of-type {\n",
       "        vertical-align: middle;\n",
       "    }\n",
       "\n",
       "    .dataframe tbody tr th {\n",
       "        vertical-align: top;\n",
       "    }\n",
       "\n",
       "    .dataframe thead th {\n",
       "        text-align: right;\n",
       "    }\n",
       "</style>\n",
       "<table border=\"1\" class=\"dataframe\">\n",
       "  <thead>\n",
       "    <tr style=\"text-align: right;\">\n",
       "      <th></th>\n",
       "      <th>Var1</th>\n",
       "      <th>Var2</th>\n",
       "      <th>Var3</th>\n",
       "      <th>Var4</th>\n",
       "      <th>Var5</th>\n",
       "    </tr>\n",
       "  </thead>\n",
       "  <tbody>\n",
       "    <tr>\n",
       "      <th>0</th>\n",
       "      <td>0.897671</td>\n",
       "      <td>0.964878</td>\n",
       "      <td>0.999433</td>\n",
       "      <td>0.969304</td>\n",
       "      <td>0.920452</td>\n",
       "    </tr>\n",
       "    <tr>\n",
       "      <th>1</th>\n",
       "      <td>0.033249</td>\n",
       "      <td>0.013816</td>\n",
       "      <td>0.000567</td>\n",
       "      <td>0.023206</td>\n",
       "      <td>0.027433</td>\n",
       "    </tr>\n",
       "    <tr>\n",
       "      <th>2</th>\n",
       "      <td>0.017589</td>\n",
       "      <td>0.008823</td>\n",
       "      <td>NaN</td>\n",
       "      <td>0.004709</td>\n",
       "      <td>0.015348</td>\n",
       "    </tr>\n",
       "    <tr>\n",
       "      <th>3</th>\n",
       "      <td>0.014242</td>\n",
       "      <td>0.004170</td>\n",
       "      <td>NaN</td>\n",
       "      <td>0.002099</td>\n",
       "      <td>0.013249</td>\n",
       "    </tr>\n",
       "    <tr>\n",
       "      <th>4</th>\n",
       "      <td>0.008312</td>\n",
       "      <td>0.001645</td>\n",
       "      <td>NaN</td>\n",
       "      <td>0.000596</td>\n",
       "      <td>0.006497</td>\n",
       "    </tr>\n",
       "    <tr>\n",
       "      <th>...</th>\n",
       "      <td>...</td>\n",
       "      <td>...</td>\n",
       "      <td>...</td>\n",
       "      <td>...</td>\n",
       "      <td>...</td>\n",
       "    </tr>\n",
       "    <tr>\n",
       "      <th>297</th>\n",
       "      <td>0.000028</td>\n",
       "      <td>NaN</td>\n",
       "      <td>NaN</td>\n",
       "      <td>NaN</td>\n",
       "      <td>NaN</td>\n",
       "    </tr>\n",
       "    <tr>\n",
       "      <th>299</th>\n",
       "      <td>0.000028</td>\n",
       "      <td>NaN</td>\n",
       "      <td>NaN</td>\n",
       "      <td>NaN</td>\n",
       "      <td>NaN</td>\n",
       "    </tr>\n",
       "    <tr>\n",
       "      <th>319</th>\n",
       "      <td>0.000028</td>\n",
       "      <td>NaN</td>\n",
       "      <td>NaN</td>\n",
       "      <td>NaN</td>\n",
       "      <td>NaN</td>\n",
       "    </tr>\n",
       "    <tr>\n",
       "      <th>339</th>\n",
       "      <td>0.000057</td>\n",
       "      <td>NaN</td>\n",
       "      <td>NaN</td>\n",
       "      <td>NaN</td>\n",
       "      <td>NaN</td>\n",
       "    </tr>\n",
       "    <tr>\n",
       "      <th>344</th>\n",
       "      <td>0.000028</td>\n",
       "      <td>NaN</td>\n",
       "      <td>NaN</td>\n",
       "      <td>NaN</td>\n",
       "      <td>NaN</td>\n",
       "    </tr>\n",
       "  </tbody>\n",
       "</table>\n",
       "<p>113 rows × 5 columns</p>\n",
       "</div>"
      ],
      "text/plain": [
       "         Var1      Var2      Var3      Var4      Var5\n",
       "0    0.897671  0.964878  0.999433  0.969304  0.920452\n",
       "1    0.033249  0.013816  0.000567  0.023206  0.027433\n",
       "2    0.017589  0.008823       NaN  0.004709  0.015348\n",
       "3    0.014242  0.004170       NaN  0.002099  0.013249\n",
       "4    0.008312  0.001645       NaN  0.000596  0.006497\n",
       "..        ...       ...       ...       ...       ...\n",
       "297  0.000028       NaN       NaN       NaN       NaN\n",
       "299  0.000028       NaN       NaN       NaN       NaN\n",
       "319  0.000028       NaN       NaN       NaN       NaN\n",
       "339  0.000057       NaN       NaN       NaN       NaN\n",
       "344  0.000028       NaN       NaN       NaN       NaN\n",
       "\n",
       "[113 rows x 5 columns]"
      ]
     },
     "execution_count": 10,
     "metadata": {},
     "output_type": "execute_result"
    }
   ],
   "source": [
    "datasets[\"raw_test\"].iloc[:, 1:].apply(\n",
    "    methodcaller(\"value_counts\", dropna=False)\n",
    ") / len(datasets[\"raw_test\"])"
   ]
  },
  {
   "cell_type": "markdown",
   "metadata": {},
   "source": [
    "## Health_Camp_Detail.csv"
   ]
  },
  {
   "cell_type": "code",
   "execution_count": 11,
   "metadata": {},
   "outputs": [
    {
     "data": {
      "text/html": [
       "<div>\n",
       "<style scoped>\n",
       "    .dataframe tbody tr th:only-of-type {\n",
       "        vertical-align: middle;\n",
       "    }\n",
       "\n",
       "    .dataframe tbody tr th {\n",
       "        vertical-align: top;\n",
       "    }\n",
       "\n",
       "    .dataframe thead th {\n",
       "        text-align: right;\n",
       "    }\n",
       "</style>\n",
       "<table border=\"1\" class=\"dataframe\">\n",
       "  <thead>\n",
       "    <tr style=\"text-align: right;\">\n",
       "      <th></th>\n",
       "      <th>Camp_Start_Date</th>\n",
       "      <th>Camp_End_Date</th>\n",
       "      <th>Category1</th>\n",
       "      <th>Category2</th>\n",
       "      <th>Category3</th>\n",
       "    </tr>\n",
       "    <tr>\n",
       "      <th>Health_Camp_ID</th>\n",
       "      <th></th>\n",
       "      <th></th>\n",
       "      <th></th>\n",
       "      <th></th>\n",
       "      <th></th>\n",
       "    </tr>\n",
       "  </thead>\n",
       "  <tbody>\n",
       "    <tr>\n",
       "      <th>6560</th>\n",
       "      <td>2003-08-16</td>\n",
       "      <td>2003-08-20</td>\n",
       "      <td>First</td>\n",
       "      <td>B</td>\n",
       "      <td>2</td>\n",
       "    </tr>\n",
       "    <tr>\n",
       "      <th>6530</th>\n",
       "      <td>2003-08-16</td>\n",
       "      <td>2003-10-28</td>\n",
       "      <td>First</td>\n",
       "      <td>C</td>\n",
       "      <td>2</td>\n",
       "    </tr>\n",
       "    <tr>\n",
       "      <th>6544</th>\n",
       "      <td>2003-11-03</td>\n",
       "      <td>2003-11-15</td>\n",
       "      <td>First</td>\n",
       "      <td>F</td>\n",
       "      <td>1</td>\n",
       "    </tr>\n",
       "    <tr>\n",
       "      <th>6585</th>\n",
       "      <td>2003-11-22</td>\n",
       "      <td>2003-12-05</td>\n",
       "      <td>First</td>\n",
       "      <td>E</td>\n",
       "      <td>2</td>\n",
       "    </tr>\n",
       "    <tr>\n",
       "      <th>6561</th>\n",
       "      <td>2003-11-30</td>\n",
       "      <td>2003-12-18</td>\n",
       "      <td>First</td>\n",
       "      <td>E</td>\n",
       "      <td>1</td>\n",
       "    </tr>\n",
       "    <tr>\n",
       "      <th>...</th>\n",
       "      <td>...</td>\n",
       "      <td>...</td>\n",
       "      <td>...</td>\n",
       "      <td>...</td>\n",
       "      <td>...</td>\n",
       "    </tr>\n",
       "    <tr>\n",
       "      <th>6556</th>\n",
       "      <td>2006-11-09</td>\n",
       "      <td>2006-12-15</td>\n",
       "      <td>First</td>\n",
       "      <td>E</td>\n",
       "      <td>2</td>\n",
       "    </tr>\n",
       "    <tr>\n",
       "      <th>6551</th>\n",
       "      <td>2006-11-13</td>\n",
       "      <td>2006-11-18</td>\n",
       "      <td>Second</td>\n",
       "      <td>D</td>\n",
       "      <td>2</td>\n",
       "    </tr>\n",
       "    <tr>\n",
       "      <th>6559</th>\n",
       "      <td>2006-12-11</td>\n",
       "      <td>2007-03-12</td>\n",
       "      <td>First</td>\n",
       "      <td>F</td>\n",
       "      <td>2</td>\n",
       "    </tr>\n",
       "    <tr>\n",
       "      <th>6567</th>\n",
       "      <td>2007-01-30</td>\n",
       "      <td>2007-02-04</td>\n",
       "      <td>Second</td>\n",
       "      <td>D</td>\n",
       "      <td>2</td>\n",
       "    </tr>\n",
       "    <tr>\n",
       "      <th>6577</th>\n",
       "      <td>2007-01-30</td>\n",
       "      <td>2007-03-08</td>\n",
       "      <td>Third</td>\n",
       "      <td>G</td>\n",
       "      <td>2</td>\n",
       "    </tr>\n",
       "  </tbody>\n",
       "</table>\n",
       "<p>65 rows × 5 columns</p>\n",
       "</div>"
      ],
      "text/plain": [
       "               Camp_Start_Date Camp_End_Date Category1 Category2  Category3\n",
       "Health_Camp_ID                                                             \n",
       "6560                2003-08-16    2003-08-20     First         B          2\n",
       "6530                2003-08-16    2003-10-28     First         C          2\n",
       "6544                2003-11-03    2003-11-15     First         F          1\n",
       "6585                2003-11-22    2003-12-05     First         E          2\n",
       "6561                2003-11-30    2003-12-18     First         E          1\n",
       "...                        ...           ...       ...       ...        ...\n",
       "6556                2006-11-09    2006-12-15     First         E          2\n",
       "6551                2006-11-13    2006-11-18    Second         D          2\n",
       "6559                2006-12-11    2007-03-12     First         F          2\n",
       "6567                2007-01-30    2007-02-04    Second         D          2\n",
       "6577                2007-01-30    2007-03-08     Third         G          2\n",
       "\n",
       "[65 rows x 5 columns]"
      ]
     },
     "execution_count": 11,
     "metadata": {},
     "output_type": "execute_result"
    }
   ],
   "source": [
    "datasets[\"raw_health_camp_detail\"]"
   ]
  },
  {
   "cell_type": "code",
   "execution_count": 12,
   "metadata": {},
   "outputs": [
    {
     "name": "stderr",
     "output_type": "stream",
     "text": [
      "/anaconda3/envs/kedro-session/lib/python3.8/site-packages/ipykernel/ipkernel.py:287: DeprecationWarning: `should_run_async` will not call `transform_cell` automatically in the future. Please pass the result to `transformed_cell` argument and any exception that happen during thetransform in `preprocessing_exc_tuple` in IPython 7.17 and above.\n",
      "  and should_run_async(code)\n"
     ]
    },
    {
     "data": {
      "text/plain": [
       "65"
      ]
     },
     "execution_count": 12,
     "metadata": {},
     "output_type": "execute_result"
    }
   ],
   "source": [
    "datasets[\"raw_health_camp_detail\"].index.get_level_values(\"Health_Camp_ID\").nunique()"
   ]
  },
  {
   "cell_type": "code",
   "execution_count": 13,
   "metadata": {},
   "outputs": [
    {
     "data": {
      "text/plain": [
       "First     44\n",
       "Second    11\n",
       "Third     10\n",
       "Name: Category1, dtype: int64"
      ]
     },
     "execution_count": 13,
     "metadata": {},
     "output_type": "execute_result"
    }
   ],
   "source": [
    "datasets[\"raw_health_camp_detail\"].Category1.value_counts(dropna=False)"
   ]
  },
  {
   "cell_type": "code",
   "execution_count": 14,
   "metadata": {},
   "outputs": [
    {
     "data": {
      "text/plain": [
       "C    16\n",
       "E    15\n",
       "F    11\n",
       "G    10\n",
       "A     7\n",
       "D     4\n",
       "B     2\n",
       "Name: Category2, dtype: int64"
      ]
     },
     "execution_count": 14,
     "metadata": {},
     "output_type": "execute_result"
    }
   ],
   "source": [
    "datasets[\"raw_health_camp_detail\"].Category2.value_counts(dropna=False)"
   ]
  },
  {
   "cell_type": "markdown",
   "metadata": {},
   "source": [
    "`Category2` is a subcategory of `Category1`."
   ]
  },
  {
   "cell_type": "code",
   "execution_count": 15,
   "metadata": {},
   "outputs": [
    {
     "data": {
      "text/plain": [
       "Category1  Category2\n",
       "First      C            16\n",
       "           E            15\n",
       "           F            11\n",
       "           B             2\n",
       "Second     A             7\n",
       "           D             4\n",
       "Third      G            10\n",
       "Name: Category2, dtype: int64"
      ]
     },
     "execution_count": 15,
     "metadata": {},
     "output_type": "execute_result"
    }
   ],
   "source": [
    "datasets[\"raw_health_camp_detail\"].groupby(\"Category1\").Category2.value_counts(dropna=False)"
   ]
  },
  {
   "cell_type": "markdown",
   "metadata": {},
   "source": [
    "`Category3` is highly imbalanced."
   ]
  },
  {
   "cell_type": "code",
   "execution_count": 16,
   "metadata": {},
   "outputs": [
    {
     "data": {
      "text/plain": [
       "2    62\n",
       "1     3\n",
       "Name: Category3, dtype: int64"
      ]
     },
     "execution_count": 16,
     "metadata": {},
     "output_type": "execute_result"
    }
   ],
   "source": [
    "datasets[\"raw_health_camp_detail\"].Category3.value_counts(dropna=False)"
   ]
  },
  {
   "cell_type": "markdown",
   "metadata": {},
   "source": [
    "### Assess linkability"
   ]
  },
  {
   "cell_type": "code",
   "execution_count": 17,
   "metadata": {},
   "outputs": [
    {
     "data": {
      "text/plain": [
       "both          75278\n",
       "right_only       21\n",
       "left_only         0\n",
       "Name: _merge, dtype: int64"
      ]
     },
     "execution_count": 17,
     "metadata": {},
     "output_type": "execute_result"
    }
   ],
   "source": [
    "datasets[\"raw_train\"].merge(\n",
    "    datasets[\"raw_health_camp_detail\"], how=\"outer\", on=\"Health_Camp_ID\", indicator=True\n",
    ")._merge.value_counts()"
   ]
  },
  {
   "cell_type": "code",
   "execution_count": 18,
   "metadata": {},
   "outputs": [
    {
     "data": {
      "text/plain": [
       "both          35249\n",
       "right_only       44\n",
       "left_only         0\n",
       "Name: _merge, dtype: int64"
      ]
     },
     "execution_count": 18,
     "metadata": {},
     "output_type": "execute_result"
    }
   ],
   "source": [
    "datasets[\"raw_test\"].merge(\n",
    "    datasets[\"raw_health_camp_detail\"], how=\"outer\", on=\"Health_Camp_ID\", indicator=True\n",
    ")._merge.value_counts()"
   ]
  },
  {
   "cell_type": "markdown",
   "metadata": {},
   "source": [
    "## Patient_Profile.csv"
   ]
  },
  {
   "cell_type": "code",
   "execution_count": 19,
   "metadata": {},
   "outputs": [
    {
     "data": {
      "text/html": [
       "<div>\n",
       "<style scoped>\n",
       "    .dataframe tbody tr th:only-of-type {\n",
       "        vertical-align: middle;\n",
       "    }\n",
       "\n",
       "    .dataframe tbody tr th {\n",
       "        vertical-align: top;\n",
       "    }\n",
       "\n",
       "    .dataframe thead th {\n",
       "        text-align: right;\n",
       "    }\n",
       "</style>\n",
       "<table border=\"1\" class=\"dataframe\">\n",
       "  <thead>\n",
       "    <tr style=\"text-align: right;\">\n",
       "      <th></th>\n",
       "      <th>Online_Follower</th>\n",
       "      <th>LinkedIn_Shared</th>\n",
       "      <th>Twitter_Shared</th>\n",
       "      <th>Facebook_Shared</th>\n",
       "      <th>Income</th>\n",
       "      <th>Education_Score</th>\n",
       "      <th>Age</th>\n",
       "      <th>First_Interaction</th>\n",
       "      <th>City_Type</th>\n",
       "      <th>Employer_Category</th>\n",
       "    </tr>\n",
       "    <tr>\n",
       "      <th>Patient_ID</th>\n",
       "      <th></th>\n",
       "      <th></th>\n",
       "      <th></th>\n",
       "      <th></th>\n",
       "      <th></th>\n",
       "      <th></th>\n",
       "      <th></th>\n",
       "      <th></th>\n",
       "      <th></th>\n",
       "      <th></th>\n",
       "    </tr>\n",
       "  </thead>\n",
       "  <tbody>\n",
       "    <tr>\n",
       "      <th>516956</th>\n",
       "      <td>0</td>\n",
       "      <td>0</td>\n",
       "      <td>0</td>\n",
       "      <td>0</td>\n",
       "      <td>1.0</td>\n",
       "      <td>90.0</td>\n",
       "      <td>39.0</td>\n",
       "      <td>2003-06-18</td>\n",
       "      <td>NaN</td>\n",
       "      <td>Software Industry</td>\n",
       "    </tr>\n",
       "    <tr>\n",
       "      <th>507733</th>\n",
       "      <td>0</td>\n",
       "      <td>0</td>\n",
       "      <td>0</td>\n",
       "      <td>0</td>\n",
       "      <td>1.0</td>\n",
       "      <td>NaN</td>\n",
       "      <td>40.0</td>\n",
       "      <td>2003-07-20</td>\n",
       "      <td>H</td>\n",
       "      <td>Software Industry</td>\n",
       "    </tr>\n",
       "    <tr>\n",
       "      <th>508307</th>\n",
       "      <td>0</td>\n",
       "      <td>0</td>\n",
       "      <td>0</td>\n",
       "      <td>0</td>\n",
       "      <td>3.0</td>\n",
       "      <td>87.0</td>\n",
       "      <td>46.0</td>\n",
       "      <td>2002-11-02</td>\n",
       "      <td>D</td>\n",
       "      <td>BFSI</td>\n",
       "    </tr>\n",
       "    <tr>\n",
       "      <th>512612</th>\n",
       "      <td>0</td>\n",
       "      <td>0</td>\n",
       "      <td>0</td>\n",
       "      <td>0</td>\n",
       "      <td>1.0</td>\n",
       "      <td>75.0</td>\n",
       "      <td>47.0</td>\n",
       "      <td>2002-11-02</td>\n",
       "      <td>D</td>\n",
       "      <td>Education</td>\n",
       "    </tr>\n",
       "    <tr>\n",
       "      <th>521075</th>\n",
       "      <td>0</td>\n",
       "      <td>0</td>\n",
       "      <td>0</td>\n",
       "      <td>0</td>\n",
       "      <td>3.0</td>\n",
       "      <td>NaN</td>\n",
       "      <td>80.0</td>\n",
       "      <td>2002-11-24</td>\n",
       "      <td>H</td>\n",
       "      <td>Others</td>\n",
       "    </tr>\n",
       "    <tr>\n",
       "      <th>...</th>\n",
       "      <td>...</td>\n",
       "      <td>...</td>\n",
       "      <td>...</td>\n",
       "      <td>...</td>\n",
       "      <td>...</td>\n",
       "      <td>...</td>\n",
       "      <td>...</td>\n",
       "      <td>...</td>\n",
       "      <td>...</td>\n",
       "      <td>...</td>\n",
       "    </tr>\n",
       "    <tr>\n",
       "      <th>518600</th>\n",
       "      <td>0</td>\n",
       "      <td>0</td>\n",
       "      <td>0</td>\n",
       "      <td>0</td>\n",
       "      <td>NaN</td>\n",
       "      <td>NaN</td>\n",
       "      <td>NaN</td>\n",
       "      <td>2007-01-28</td>\n",
       "      <td>NaN</td>\n",
       "      <td>NaN</td>\n",
       "    </tr>\n",
       "    <tr>\n",
       "      <th>509515</th>\n",
       "      <td>0</td>\n",
       "      <td>0</td>\n",
       "      <td>0</td>\n",
       "      <td>0</td>\n",
       "      <td>NaN</td>\n",
       "      <td>NaN</td>\n",
       "      <td>NaN</td>\n",
       "      <td>2007-01-27</td>\n",
       "      <td>NaN</td>\n",
       "      <td>NaN</td>\n",
       "    </tr>\n",
       "    <tr>\n",
       "      <th>510713</th>\n",
       "      <td>0</td>\n",
       "      <td>0</td>\n",
       "      <td>0</td>\n",
       "      <td>0</td>\n",
       "      <td>NaN</td>\n",
       "      <td>NaN</td>\n",
       "      <td>NaN</td>\n",
       "      <td>2007-02-01</td>\n",
       "      <td>H</td>\n",
       "      <td>NaN</td>\n",
       "    </tr>\n",
       "    <tr>\n",
       "      <th>493667</th>\n",
       "      <td>0</td>\n",
       "      <td>0</td>\n",
       "      <td>0</td>\n",
       "      <td>0</td>\n",
       "      <td>NaN</td>\n",
       "      <td>NaN</td>\n",
       "      <td>NaN</td>\n",
       "      <td>2007-01-27</td>\n",
       "      <td>NaN</td>\n",
       "      <td>NaN</td>\n",
       "    </tr>\n",
       "    <tr>\n",
       "      <th>498051</th>\n",
       "      <td>0</td>\n",
       "      <td>0</td>\n",
       "      <td>0</td>\n",
       "      <td>0</td>\n",
       "      <td>NaN</td>\n",
       "      <td>NaN</td>\n",
       "      <td>NaN</td>\n",
       "      <td>2007-01-29</td>\n",
       "      <td>NaN</td>\n",
       "      <td>NaN</td>\n",
       "    </tr>\n",
       "  </tbody>\n",
       "</table>\n",
       "<p>37633 rows × 10 columns</p>\n",
       "</div>"
      ],
      "text/plain": [
       "            Online_Follower  LinkedIn_Shared  Twitter_Shared  Facebook_Shared  \\\n",
       "Patient_ID                                                                      \n",
       "516956                    0                0               0                0   \n",
       "507733                    0                0               0                0   \n",
       "508307                    0                0               0                0   \n",
       "512612                    0                0               0                0   \n",
       "521075                    0                0               0                0   \n",
       "...                     ...              ...             ...              ...   \n",
       "518600                    0                0               0                0   \n",
       "509515                    0                0               0                0   \n",
       "510713                    0                0               0                0   \n",
       "493667                    0                0               0                0   \n",
       "498051                    0                0               0                0   \n",
       "\n",
       "            Income  Education_Score   Age First_Interaction City_Type  \\\n",
       "Patient_ID                                                              \n",
       "516956         1.0             90.0  39.0        2003-06-18       NaN   \n",
       "507733         1.0              NaN  40.0        2003-07-20         H   \n",
       "508307         3.0             87.0  46.0        2002-11-02         D   \n",
       "512612         1.0             75.0  47.0        2002-11-02         D   \n",
       "521075         3.0              NaN  80.0        2002-11-24         H   \n",
       "...            ...              ...   ...               ...       ...   \n",
       "518600         NaN              NaN   NaN        2007-01-28       NaN   \n",
       "509515         NaN              NaN   NaN        2007-01-27       NaN   \n",
       "510713         NaN              NaN   NaN        2007-02-01         H   \n",
       "493667         NaN              NaN   NaN        2007-01-27       NaN   \n",
       "498051         NaN              NaN   NaN        2007-01-29       NaN   \n",
       "\n",
       "            Employer_Category  \n",
       "Patient_ID                     \n",
       "516956      Software Industry  \n",
       "507733      Software Industry  \n",
       "508307                   BFSI  \n",
       "512612              Education  \n",
       "521075                 Others  \n",
       "...                       ...  \n",
       "518600                    NaN  \n",
       "509515                    NaN  \n",
       "510713                    NaN  \n",
       "493667                    NaN  \n",
       "498051                    NaN  \n",
       "\n",
       "[37633 rows x 10 columns]"
      ]
     },
     "execution_count": 19,
     "metadata": {},
     "output_type": "execute_result"
    }
   ],
   "source": [
    "datasets[\"raw_patient_profile\"]"
   ]
  },
  {
   "cell_type": "markdown",
   "metadata": {},
   "source": [
    "Online engagement is highly imbalanced/sparse."
   ]
  },
  {
   "cell_type": "code",
   "execution_count": 20,
   "metadata": {},
   "outputs": [
    {
     "name": "stderr",
     "output_type": "stream",
     "text": [
      "/anaconda3/envs/kedro-session/lib/python3.8/site-packages/ipykernel/ipkernel.py:287: DeprecationWarning: `should_run_async` will not call `transform_cell` automatically in the future. Please pass the result to `transformed_cell` argument and any exception that happen during thetransform in `preprocessing_exc_tuple` in IPython 7.17 and above.\n",
      "  and should_run_async(code)\n"
     ]
    },
    {
     "data": {
      "text/plain": [
       "0    36785\n",
       "1      848\n",
       "Name: Online_Follower, dtype: int64"
      ]
     },
     "execution_count": 20,
     "metadata": {},
     "output_type": "execute_result"
    }
   ],
   "source": [
    "datasets[\"raw_patient_profile\"].Online_Follower.value_counts(dropna=False)"
   ]
  },
  {
   "cell_type": "code",
   "execution_count": 21,
   "metadata": {},
   "outputs": [
    {
     "data": {
      "text/plain": [
       "0    36614\n",
       "1     1019\n",
       "Name: LinkedIn_Shared, dtype: int64"
      ]
     },
     "execution_count": 21,
     "metadata": {},
     "output_type": "execute_result"
    }
   ],
   "source": [
    "datasets[\"raw_patient_profile\"].LinkedIn_Shared.value_counts(dropna=False)"
   ]
  },
  {
   "cell_type": "code",
   "execution_count": 22,
   "metadata": {},
   "outputs": [
    {
     "data": {
      "text/plain": [
       "0    36820\n",
       "1      813\n",
       "Name: Twitter_Shared, dtype: int64"
      ]
     },
     "execution_count": 22,
     "metadata": {},
     "output_type": "execute_result"
    }
   ],
   "source": [
    "datasets[\"raw_patient_profile\"].Twitter_Shared.value_counts(dropna=False)"
   ]
  },
  {
   "cell_type": "code",
   "execution_count": 23,
   "metadata": {},
   "outputs": [
    {
     "data": {
      "text/plain": [
       "0    36747\n",
       "1      886\n",
       "Name: Facebook_Shared, dtype: int64"
      ]
     },
     "execution_count": 23,
     "metadata": {},
     "output_type": "execute_result"
    }
   ],
   "source": [
    "datasets[\"raw_patient_profile\"].Facebook_Shared.value_counts(dropna=False)"
   ]
  },
  {
   "cell_type": "markdown",
   "metadata": {},
   "source": [
    "`Income` is over 88% missing."
   ]
  },
  {
   "cell_type": "code",
   "execution_count": 24,
   "metadata": {},
   "outputs": [
    {
     "data": {
      "text/plain": [
       "NaN    33271\n",
       "0.0     2033\n",
       "1.0     1013\n",
       "2.0      685\n",
       "3.0      362\n",
       "4.0      156\n",
       "5.0       70\n",
       "6.0       43\n",
       "Name: Income, dtype: int64"
      ]
     },
     "execution_count": 24,
     "metadata": {},
     "output_type": "execute_result"
    }
   ],
   "source": [
    "datasets[\"raw_patient_profile\"].Income.value_counts(dropna=False)"
   ]
  },
  {
   "cell_type": "markdown",
   "metadata": {},
   "source": [
    "`Education_Score` is over 96% missing."
   ]
  },
  {
   "cell_type": "code",
   "execution_count": 25,
   "metadata": {},
   "outputs": [
    {
     "data": {
      "text/plain": [
       "NaN          36249\n",
       "75.000000       57\n",
       "82.000000       57\n",
       "79.000000       52\n",
       "76.000000       51\n",
       "             ...  \n",
       "91.566667        1\n",
       "67.933333        1\n",
       "77.726667        1\n",
       "84.500000        1\n",
       "74.966667        1\n",
       "Name: Education_Score, Length: 228, dtype: int64"
      ]
     },
     "execution_count": 25,
     "metadata": {},
     "output_type": "execute_result"
    }
   ],
   "source": [
    "datasets[\"raw_patient_profile\"].Education_Score.value_counts(dropna=False)"
   ]
  },
  {
   "cell_type": "markdown",
   "metadata": {},
   "source": [
    "`Age` is 87% missing."
   ]
  },
  {
   "cell_type": "code",
   "execution_count": 26,
   "metadata": {},
   "outputs": [
    {
     "data": {
      "text/plain": [
       "NaN     32618\n",
       "41.0      361\n",
       "43.0      359\n",
       "42.0      336\n",
       "40.0      321\n",
       "39.0      299\n",
       "44.0      293\n",
       "45.0      240\n",
       "38.0      219\n",
       "72.0      218\n",
       "46.0      214\n",
       "73.0      199\n",
       "47.0      189\n",
       "37.0      186\n",
       "71.0      175\n",
       "74.0      172\n",
       "48.0      140\n",
       "49.0      127\n",
       "36.0      109\n",
       "50.0      102\n",
       "51.0       76\n",
       "70.0       71\n",
       "52.0       66\n",
       "35.0       66\n",
       "53.0       53\n",
       "75.0       43\n",
       "34.0       42\n",
       "54.0       40\n",
       "69.0       36\n",
       "55.0       35\n",
       "76.0       32\n",
       "56.0       25\n",
       "58.0       21\n",
       "77.0       18\n",
       "33.0       17\n",
       "57.0       16\n",
       "67.0       15\n",
       "68.0       14\n",
       "59.0       13\n",
       "60.0       10\n",
       "32.0        7\n",
       "61.0        7\n",
       "63.0        6\n",
       "65.0        6\n",
       "78.0        5\n",
       "66.0        4\n",
       "64.0        4\n",
       "62.0        3\n",
       "31.0        2\n",
       "30.0        2\n",
       "80.0        1\n",
       "Name: Age, dtype: int64"
      ]
     },
     "execution_count": 26,
     "metadata": {},
     "output_type": "execute_result"
    }
   ],
   "source": [
    "datasets[\"raw_patient_profile\"].Age.value_counts(dropna=False)"
   ]
  },
  {
   "cell_type": "code",
   "execution_count": 27,
   "metadata": {},
   "outputs": [
    {
     "data": {
      "text/plain": [
       "2004-09-08    574\n",
       "2005-05-01    544\n",
       "2005-05-21    498\n",
       "2005-02-09    437\n",
       "2004-10-25    305\n",
       "             ... \n",
       "2004-06-10      1\n",
       "2005-11-20      1\n",
       "2004-02-13      1\n",
       "2003-12-14      1\n",
       "2004-04-02      1\n",
       "Name: First_Interaction, Length: 1476, dtype: int64"
      ]
     },
     "execution_count": 27,
     "metadata": {},
     "output_type": "execute_result"
    }
   ],
   "source": [
    "datasets[\"raw_patient_profile\"].First_Interaction.value_counts(dropna=False)"
   ]
  },
  {
   "cell_type": "markdown",
   "metadata": {},
   "source": [
    "`City_Type` is over 62% missing."
   ]
  },
  {
   "cell_type": "code",
   "execution_count": 28,
   "metadata": {},
   "outputs": [
    {
     "data": {
      "text/plain": [
       "NaN    23384\n",
       "B       2662\n",
       "H       2517\n",
       "A       1729\n",
       "D       1704\n",
       "G       1352\n",
       "E       1217\n",
       "C       1216\n",
       "I       1036\n",
       "F        816\n",
       "Name: City_Type, dtype: int64"
      ]
     },
     "execution_count": 28,
     "metadata": {},
     "output_type": "execute_result"
    }
   ],
   "source": [
    "datasets[\"raw_patient_profile\"].City_Type.value_counts(dropna=False)"
   ]
  },
  {
   "cell_type": "markdown",
   "metadata": {},
   "source": [
    "### Assess linkability"
   ]
  },
  {
   "cell_type": "code",
   "execution_count": 29,
   "metadata": {},
   "outputs": [
    {
     "data": {
      "text/plain": [
       "both          75278\n",
       "right_only     7805\n",
       "left_only         0\n",
       "Name: _merge, dtype: int64"
      ]
     },
     "execution_count": 29,
     "metadata": {},
     "output_type": "execute_result"
    }
   ],
   "source": [
    "datasets[\"raw_train\"].merge(\n",
    "    datasets[\"raw_patient_profile\"], how=\"outer\", on=\"Patient_ID\", indicator=True\n",
    ")._merge.value_counts()"
   ]
  },
  {
   "cell_type": "code",
   "execution_count": 30,
   "metadata": {},
   "outputs": [
    {
     "data": {
      "text/plain": [
       "both          35249\n",
       "right_only    22309\n",
       "left_only         0\n",
       "Name: _merge, dtype: int64"
      ]
     },
     "execution_count": 30,
     "metadata": {},
     "output_type": "execute_result"
    }
   ],
   "source": [
    "datasets[\"raw_test\"].merge(\n",
    "    datasets[\"raw_patient_profile\"], how=\"outer\", on=\"Patient_ID\", indicator=True\n",
    ")._merge.value_counts()"
   ]
  },
  {
   "cell_type": "markdown",
   "metadata": {},
   "source": [
    "## First_Health_Camp_Attended.csv"
   ]
  },
  {
   "cell_type": "code",
   "execution_count": 31,
   "metadata": {},
   "outputs": [
    {
     "data": {
      "text/html": [
       "<div>\n",
       "<style scoped>\n",
       "    .dataframe tbody tr th:only-of-type {\n",
       "        vertical-align: middle;\n",
       "    }\n",
       "\n",
       "    .dataframe tbody tr th {\n",
       "        vertical-align: top;\n",
       "    }\n",
       "\n",
       "    .dataframe thead th {\n",
       "        text-align: right;\n",
       "    }\n",
       "</style>\n",
       "<table border=\"1\" class=\"dataframe\">\n",
       "  <thead>\n",
       "    <tr style=\"text-align: right;\">\n",
       "      <th></th>\n",
       "      <th></th>\n",
       "      <th>Donation</th>\n",
       "      <th>Health_Score</th>\n",
       "      <th>Unnamed: 4</th>\n",
       "    </tr>\n",
       "    <tr>\n",
       "      <th>Patient_ID</th>\n",
       "      <th>Health_Camp_ID</th>\n",
       "      <th></th>\n",
       "      <th></th>\n",
       "      <th></th>\n",
       "    </tr>\n",
       "  </thead>\n",
       "  <tbody>\n",
       "    <tr>\n",
       "      <th>506181</th>\n",
       "      <th>6560</th>\n",
       "      <td>40</td>\n",
       "      <td>0.439024</td>\n",
       "      <td>NaN</td>\n",
       "    </tr>\n",
       "    <tr>\n",
       "      <th>494977</th>\n",
       "      <th>6560</th>\n",
       "      <td>20</td>\n",
       "      <td>0.097561</td>\n",
       "      <td>NaN</td>\n",
       "    </tr>\n",
       "    <tr>\n",
       "      <th>518680</th>\n",
       "      <th>6560</th>\n",
       "      <td>10</td>\n",
       "      <td>0.048780</td>\n",
       "      <td>NaN</td>\n",
       "    </tr>\n",
       "    <tr>\n",
       "      <th>509916</th>\n",
       "      <th>6560</th>\n",
       "      <td>30</td>\n",
       "      <td>0.634146</td>\n",
       "      <td>NaN</td>\n",
       "    </tr>\n",
       "    <tr>\n",
       "      <th>488006</th>\n",
       "      <th>6560</th>\n",
       "      <td>20</td>\n",
       "      <td>0.024390</td>\n",
       "      <td>NaN</td>\n",
       "    </tr>\n",
       "    <tr>\n",
       "      <th>...</th>\n",
       "      <th>...</th>\n",
       "      <td>...</td>\n",
       "      <td>...</td>\n",
       "      <td>...</td>\n",
       "    </tr>\n",
       "    <tr>\n",
       "      <th>502728</th>\n",
       "      <th>6575</th>\n",
       "      <td>10</td>\n",
       "      <td>0.509804</td>\n",
       "      <td>NaN</td>\n",
       "    </tr>\n",
       "    <tr>\n",
       "      <th>511088</th>\n",
       "      <th>6575</th>\n",
       "      <td>20</td>\n",
       "      <td>0.078431</td>\n",
       "      <td>NaN</td>\n",
       "    </tr>\n",
       "    <tr>\n",
       "      <th>507608</th>\n",
       "      <th>6575</th>\n",
       "      <td>40</td>\n",
       "      <td>0.627451</td>\n",
       "      <td>NaN</td>\n",
       "    </tr>\n",
       "    <tr>\n",
       "      <th>488046</th>\n",
       "      <th>6575</th>\n",
       "      <td>50</td>\n",
       "      <td>0.686275</td>\n",
       "      <td>NaN</td>\n",
       "    </tr>\n",
       "    <tr>\n",
       "      <th>508766</th>\n",
       "      <th>6575</th>\n",
       "      <td>50</td>\n",
       "      <td>0.921569</td>\n",
       "      <td>NaN</td>\n",
       "    </tr>\n",
       "  </tbody>\n",
       "</table>\n",
       "<p>6218 rows × 3 columns</p>\n",
       "</div>"
      ],
      "text/plain": [
       "                           Donation  Health_Score  Unnamed: 4\n",
       "Patient_ID Health_Camp_ID                                    \n",
       "506181     6560                  40      0.439024         NaN\n",
       "494977     6560                  20      0.097561         NaN\n",
       "518680     6560                  10      0.048780         NaN\n",
       "509916     6560                  30      0.634146         NaN\n",
       "488006     6560                  20      0.024390         NaN\n",
       "...                             ...           ...         ...\n",
       "502728     6575                  10      0.509804         NaN\n",
       "511088     6575                  20      0.078431         NaN\n",
       "507608     6575                  40      0.627451         NaN\n",
       "488046     6575                  50      0.686275         NaN\n",
       "508766     6575                  50      0.921569         NaN\n",
       "\n",
       "[6218 rows x 3 columns]"
      ]
     },
     "execution_count": 31,
     "metadata": {},
     "output_type": "execute_result"
    }
   ],
   "source": [
    "datasets[\"raw_first_health_camp_attended\"]"
   ]
  },
  {
   "cell_type": "markdown",
   "metadata": {},
   "source": [
    "`Donation` is never missing or zero (or under 10)."
   ]
  },
  {
   "cell_type": "code",
   "execution_count": 32,
   "metadata": {},
   "outputs": [
    {
     "name": "stderr",
     "output_type": "stream",
     "text": [
      "/anaconda3/envs/kedro-session/lib/python3.8/site-packages/ipykernel/ipkernel.py:287: DeprecationWarning: `should_run_async` will not call `transform_cell` automatically in the future. Please pass the result to `transformed_cell` argument and any exception that happen during thetransform in `preprocessing_exc_tuple` in IPython 7.17 and above.\n",
      "  and should_run_async(code)\n"
     ]
    },
    {
     "data": {
      "text/plain": [
       "20     1609\n",
       "10     1316\n",
       "30     1250\n",
       "40      760\n",
       "50      473\n",
       "60      283\n",
       "70      194\n",
       "80       91\n",
       "90       74\n",
       "100      51\n",
       "110      30\n",
       "120      24\n",
       "130      18\n",
       "140      13\n",
       "150       8\n",
       "160       8\n",
       "170       6\n",
       "250       2\n",
       "180       2\n",
       "210       2\n",
       "280       1\n",
       "220       1\n",
       "190       1\n",
       "330       1\n",
       "Name: Donation, dtype: int64"
      ]
     },
     "execution_count": 32,
     "metadata": {},
     "output_type": "execute_result"
    }
   ],
   "source": [
    "datasets[\"raw_first_health_camp_attended\"].Donation.value_counts(dropna=False)"
   ]
  },
  {
   "cell_type": "code",
   "execution_count": 33,
   "metadata": {},
   "outputs": [
    {
     "data": {
      "text/plain": [
       "0.360339    111\n",
       "0.464856    102\n",
       "0.559855    101\n",
       "0.753325     91\n",
       "0.752137     58\n",
       "           ... \n",
       "0.489627      1\n",
       "0.897764      1\n",
       "0.919890      1\n",
       "0.132780      1\n",
       "0.919087      1\n",
       "Name: Health_Score, Length: 3826, dtype: int64"
      ]
     },
     "execution_count": 33,
     "metadata": {},
     "output_type": "execute_result"
    }
   ],
   "source": [
    "datasets[\"raw_first_health_camp_attended\"].Health_Score.value_counts(dropna=False)"
   ]
  },
  {
   "cell_type": "code",
   "execution_count": 34,
   "metadata": {},
   "outputs": [
    {
     "data": {
      "text/plain": [
       "dtype('float64')"
      ]
     },
     "execution_count": 34,
     "metadata": {},
     "output_type": "execute_result"
    }
   ],
   "source": [
    "datasets[\"raw_first_health_camp_attended\"].Health_Score.dtype"
   ]
  },
  {
   "cell_type": "code",
   "execution_count": 35,
   "metadata": {},
   "outputs": [
    {
     "data": {
      "text/plain": [
       "0"
      ]
     },
     "execution_count": 35,
     "metadata": {},
     "output_type": "execute_result"
    }
   ],
   "source": [
    "datasets[\"raw_first_health_camp_attended\"].Health_Score.isna().sum()"
   ]
  },
  {
   "cell_type": "markdown",
   "metadata": {},
   "source": [
    "### Assess linkability"
   ]
  },
  {
   "cell_type": "code",
   "execution_count": 36,
   "metadata": {},
   "outputs": [
    {
     "data": {
      "text/plain": [
       "left_only     34085\n",
       "both           6218\n",
       "right_only        0\n",
       "Name: _merge, dtype: int64"
      ]
     },
     "execution_count": 36,
     "metadata": {},
     "output_type": "execute_result"
    }
   ],
   "source": [
    "datasets[\"raw_patient_profile\"].merge(\n",
    "    datasets[\"raw_first_health_camp_attended\"],\n",
    "    how=\"outer\",\n",
    "    on=\"Patient_ID\",\n",
    "    indicator=True,\n",
    ")._merge.value_counts()"
   ]
  },
  {
   "cell_type": "code",
   "execution_count": 37,
   "metadata": {},
   "outputs": [
    {
     "data": {
      "text/plain": [
       "both          6218\n",
       "left_only       31\n",
       "right_only       0\n",
       "Name: _merge, dtype: int64"
      ]
     },
     "execution_count": 37,
     "metadata": {},
     "output_type": "execute_result"
    }
   ],
   "source": [
    "datasets[\"raw_health_camp_detail\"].merge(\n",
    "    datasets[\"raw_first_health_camp_attended\"],\n",
    "    how=\"outer\",\n",
    "    on=\"Health_Camp_ID\",\n",
    "    indicator=True,\n",
    ")._merge.value_counts()"
   ]
  },
  {
   "cell_type": "markdown",
   "metadata": {},
   "source": [
    "## Second_Health_Camp_Attended.csv"
   ]
  },
  {
   "cell_type": "code",
   "execution_count": 38,
   "metadata": {},
   "outputs": [
    {
     "data": {
      "text/html": [
       "<div>\n",
       "<style scoped>\n",
       "    .dataframe tbody tr th:only-of-type {\n",
       "        vertical-align: middle;\n",
       "    }\n",
       "\n",
       "    .dataframe tbody tr th {\n",
       "        vertical-align: top;\n",
       "    }\n",
       "\n",
       "    .dataframe thead th {\n",
       "        text-align: right;\n",
       "    }\n",
       "</style>\n",
       "<table border=\"1\" class=\"dataframe\">\n",
       "  <thead>\n",
       "    <tr style=\"text-align: right;\">\n",
       "      <th></th>\n",
       "      <th></th>\n",
       "      <th>Health Score</th>\n",
       "    </tr>\n",
       "    <tr>\n",
       "      <th>Patient_ID</th>\n",
       "      <th>Health_Camp_ID</th>\n",
       "      <th></th>\n",
       "    </tr>\n",
       "  </thead>\n",
       "  <tbody>\n",
       "    <tr>\n",
       "      <th>526631</th>\n",
       "      <th>6536</th>\n",
       "      <td>0.875136</td>\n",
       "    </tr>\n",
       "    <tr>\n",
       "      <th>509122</th>\n",
       "      <th>6536</th>\n",
       "      <td>0.755700</td>\n",
       "    </tr>\n",
       "    <tr>\n",
       "      <th>498864</th>\n",
       "      <th>6536</th>\n",
       "      <td>0.673181</td>\n",
       "    </tr>\n",
       "    <tr>\n",
       "      <th>515398</th>\n",
       "      <th>6536</th>\n",
       "      <td>0.722041</td>\n",
       "    </tr>\n",
       "    <tr>\n",
       "      <th>504624</th>\n",
       "      <th>6536</th>\n",
       "      <td>0.464712</td>\n",
       "    </tr>\n",
       "    <tr>\n",
       "      <th>...</th>\n",
       "      <th>...</th>\n",
       "      <td>...</td>\n",
       "    </tr>\n",
       "    <tr>\n",
       "      <th>490853</th>\n",
       "      <th>6529</th>\n",
       "      <td>0.103136</td>\n",
       "    </tr>\n",
       "    <tr>\n",
       "      <th>499836</th>\n",
       "      <th>6529</th>\n",
       "      <td>0.507841</td>\n",
       "    </tr>\n",
       "    <tr>\n",
       "      <th>511286</th>\n",
       "      <th>6529</th>\n",
       "      <td>0.627865</td>\n",
       "    </tr>\n",
       "    <tr>\n",
       "      <th>522935</th>\n",
       "      <th>6529</th>\n",
       "      <td>0.252714</td>\n",
       "    </tr>\n",
       "    <tr>\n",
       "      <th>489487</th>\n",
       "      <th>6529</th>\n",
       "      <td>0.691194</td>\n",
       "    </tr>\n",
       "  </tbody>\n",
       "</table>\n",
       "<p>7819 rows × 1 columns</p>\n",
       "</div>"
      ],
      "text/plain": [
       "                           Health Score\n",
       "Patient_ID Health_Camp_ID              \n",
       "526631     6536                0.875136\n",
       "509122     6536                0.755700\n",
       "498864     6536                0.673181\n",
       "515398     6536                0.722041\n",
       "504624     6536                0.464712\n",
       "...                                 ...\n",
       "490853     6529                0.103136\n",
       "499836     6529                0.507841\n",
       "511286     6529                0.627865\n",
       "522935     6529                0.252714\n",
       "489487     6529                0.691194\n",
       "\n",
       "[7819 rows x 1 columns]"
      ]
     },
     "execution_count": 38,
     "metadata": {},
     "output_type": "execute_result"
    }
   ],
   "source": [
    "datasets[\"raw_second_health_camp_attended\"]"
   ]
  },
  {
   "cell_type": "code",
   "execution_count": 39,
   "metadata": {},
   "outputs": [
    {
     "name": "stderr",
     "output_type": "stream",
     "text": [
      "/anaconda3/envs/kedro-session/lib/python3.8/site-packages/ipykernel/ipkernel.py:287: DeprecationWarning: `should_run_async` will not call `transform_cell` automatically in the future. Please pass the result to `transformed_cell` argument and any exception that happen during thetransform in `preprocessing_exc_tuple` in IPython 7.17 and above.\n",
      "  and should_run_async(code)\n"
     ]
    },
    {
     "data": {
      "text/plain": [
       "0.402054    1018\n",
       "0.373206     545\n",
       "0.455371     135\n",
       "0.505134     126\n",
       "0.065742     109\n",
       "            ... \n",
       "0.987697       1\n",
       "0.998815       1\n",
       "0.998633       1\n",
       "0.998420       1\n",
       "0.997949       1\n",
       "Name: Health Score, Length: 208, dtype: int64"
      ]
     },
     "execution_count": 39,
     "metadata": {},
     "output_type": "execute_result"
    }
   ],
   "source": [
    "datasets[\"raw_second_health_camp_attended\"][\"Health Score\"].value_counts(dropna=False)"
   ]
  },
  {
   "cell_type": "code",
   "execution_count": 40,
   "metadata": {},
   "outputs": [
    {
     "data": {
      "text/plain": [
       "dtype('float64')"
      ]
     },
     "execution_count": 40,
     "metadata": {},
     "output_type": "execute_result"
    }
   ],
   "source": [
    "datasets[\"raw_second_health_camp_attended\"][\"Health Score\"].dtype"
   ]
  },
  {
   "cell_type": "code",
   "execution_count": 41,
   "metadata": {},
   "outputs": [
    {
     "data": {
      "text/plain": [
       "0"
      ]
     },
     "execution_count": 41,
     "metadata": {},
     "output_type": "execute_result"
    }
   ],
   "source": [
    "datasets[\"raw_second_health_camp_attended\"][\"Health Score\"].isna().sum()"
   ]
  },
  {
   "cell_type": "markdown",
   "metadata": {},
   "source": [
    "### Assess linkability"
   ]
  },
  {
   "cell_type": "code",
   "execution_count": 42,
   "metadata": {},
   "outputs": [
    {
     "data": {
      "text/plain": [
       "left_only     31510\n",
       "both           7819\n",
       "right_only        0\n",
       "Name: _merge, dtype: int64"
      ]
     },
     "execution_count": 42,
     "metadata": {},
     "output_type": "execute_result"
    }
   ],
   "source": [
    "datasets[\"raw_patient_profile\"].merge(\n",
    "    datasets[\"raw_second_health_camp_attended\"],\n",
    "    how=\"outer\",\n",
    "    on=\"Patient_ID\",\n",
    "    indicator=True,\n",
    ")._merge.value_counts()"
   ]
  },
  {
   "cell_type": "code",
   "execution_count": 43,
   "metadata": {},
   "outputs": [
    {
     "data": {
      "text/plain": [
       "both          7819\n",
       "left_only       59\n",
       "right_only       0\n",
       "Name: _merge, dtype: int64"
      ]
     },
     "execution_count": 43,
     "metadata": {},
     "output_type": "execute_result"
    }
   ],
   "source": [
    "datasets[\"raw_health_camp_detail\"].merge(\n",
    "    datasets[\"raw_second_health_camp_attended\"],\n",
    "    how=\"outer\",\n",
    "    on=\"Health_Camp_ID\",\n",
    "    indicator=True,\n",
    ")._merge.value_counts()"
   ]
  },
  {
   "cell_type": "markdown",
   "metadata": {},
   "source": [
    "## Third_Health_Camp_Attended.csv"
   ]
  },
  {
   "cell_type": "code",
   "execution_count": 44,
   "metadata": {},
   "outputs": [
    {
     "data": {
      "text/html": [
       "<div>\n",
       "<style scoped>\n",
       "    .dataframe tbody tr th:only-of-type {\n",
       "        vertical-align: middle;\n",
       "    }\n",
       "\n",
       "    .dataframe tbody tr th {\n",
       "        vertical-align: top;\n",
       "    }\n",
       "\n",
       "    .dataframe thead th {\n",
       "        text-align: right;\n",
       "    }\n",
       "</style>\n",
       "<table border=\"1\" class=\"dataframe\">\n",
       "  <thead>\n",
       "    <tr style=\"text-align: right;\">\n",
       "      <th></th>\n",
       "      <th></th>\n",
       "      <th>Number_of_stall_visited</th>\n",
       "      <th>Last_Stall_Visited_Number</th>\n",
       "    </tr>\n",
       "    <tr>\n",
       "      <th>Patient_ID</th>\n",
       "      <th>Health_Camp_ID</th>\n",
       "      <th></th>\n",
       "      <th></th>\n",
       "    </tr>\n",
       "  </thead>\n",
       "  <tbody>\n",
       "    <tr>\n",
       "      <th>517875</th>\n",
       "      <th>6527</th>\n",
       "      <td>3</td>\n",
       "      <td>1</td>\n",
       "    </tr>\n",
       "    <tr>\n",
       "      <th rowspan=\"2\" valign=\"top\">504692</th>\n",
       "      <th>6578</th>\n",
       "      <td>1</td>\n",
       "      <td>1</td>\n",
       "    </tr>\n",
       "    <tr>\n",
       "      <th>6527</th>\n",
       "      <td>3</td>\n",
       "      <td>1</td>\n",
       "    </tr>\n",
       "    <tr>\n",
       "      <th>493167</th>\n",
       "      <th>6527</th>\n",
       "      <td>4</td>\n",
       "      <td>4</td>\n",
       "    </tr>\n",
       "    <tr>\n",
       "      <th>510954</th>\n",
       "      <th>6528</th>\n",
       "      <td>2</td>\n",
       "      <td>2</td>\n",
       "    </tr>\n",
       "    <tr>\n",
       "      <th>...</th>\n",
       "      <th>...</th>\n",
       "      <td>...</td>\n",
       "      <td>...</td>\n",
       "    </tr>\n",
       "    <tr>\n",
       "      <th>503791</th>\n",
       "      <th>6527</th>\n",
       "      <td>3</td>\n",
       "      <td>3</td>\n",
       "    </tr>\n",
       "    <tr>\n",
       "      <th rowspan=\"3\" valign=\"top\">517319</th>\n",
       "      <th>6528</th>\n",
       "      <td>1</td>\n",
       "      <td>3</td>\n",
       "    </tr>\n",
       "    <tr>\n",
       "      <th>6578</th>\n",
       "      <td>4</td>\n",
       "      <td>3</td>\n",
       "    </tr>\n",
       "    <tr>\n",
       "      <th>6527</th>\n",
       "      <td>4</td>\n",
       "      <td>4</td>\n",
       "    </tr>\n",
       "    <tr>\n",
       "      <th>511234</th>\n",
       "      <th>6527</th>\n",
       "      <td>5</td>\n",
       "      <td>4</td>\n",
       "    </tr>\n",
       "  </tbody>\n",
       "</table>\n",
       "<p>6515 rows × 2 columns</p>\n",
       "</div>"
      ],
      "text/plain": [
       "                           Number_of_stall_visited  Last_Stall_Visited_Number\n",
       "Patient_ID Health_Camp_ID                                                    \n",
       "517875     6527                                  3                          1\n",
       "504692     6578                                  1                          1\n",
       "           6527                                  3                          1\n",
       "493167     6527                                  4                          4\n",
       "510954     6528                                  2                          2\n",
       "...                                            ...                        ...\n",
       "503791     6527                                  3                          3\n",
       "517319     6528                                  1                          3\n",
       "           6578                                  4                          3\n",
       "           6527                                  4                          4\n",
       "511234     6527                                  5                          4\n",
       "\n",
       "[6515 rows x 2 columns]"
      ]
     },
     "execution_count": 44,
     "metadata": {},
     "output_type": "execute_result"
    }
   ],
   "source": [
    "datasets[\"raw_third_health_camp_attended\"]"
   ]
  },
  {
   "cell_type": "code",
   "execution_count": 45,
   "metadata": {},
   "outputs": [
    {
     "name": "stderr",
     "output_type": "stream",
     "text": [
      "/anaconda3/envs/kedro-session/lib/python3.8/site-packages/ipykernel/ipkernel.py:287: DeprecationWarning: `should_run_async` will not call `transform_cell` automatically in the future. Please pass the result to `transformed_cell` argument and any exception that happen during thetransform in `preprocessing_exc_tuple` in IPython 7.17 and above.\n",
      "  and should_run_async(code)\n"
     ]
    },
    {
     "data": {
      "text/plain": [
       "1    1822\n",
       "2    1243\n",
       "3    1145\n",
       "5    1034\n",
       "4     701\n",
       "6     536\n",
       "0      18\n",
       "7      16\n",
       "Name: Number_of_stall_visited, dtype: int64"
      ]
     },
     "execution_count": 45,
     "metadata": {},
     "output_type": "execute_result"
    }
   ],
   "source": [
    "datasets[\"raw_third_health_camp_attended\"].Number_of_stall_visited.value_counts(dropna=False)"
   ]
  },
  {
   "cell_type": "code",
   "execution_count": 46,
   "metadata": {},
   "outputs": [
    {
     "data": {
      "text/plain": [
       "1    2497\n",
       "2    1290\n",
       "3    1234\n",
       "4     753\n",
       "5     472\n",
       "6     245\n",
       "0      18\n",
       "7       6\n",
       "Name: Last_Stall_Visited_Number, dtype: int64"
      ]
     },
     "execution_count": 46,
     "metadata": {},
     "output_type": "execute_result"
    }
   ],
   "source": [
    "datasets[\"raw_third_health_camp_attended\"].Last_Stall_Visited_Number.value_counts(dropna=False)"
   ]
  },
  {
   "cell_type": "code",
   "execution_count": 47,
   "metadata": {},
   "outputs": [
    {
     "data": {
      "text/html": [
       "<div>\n",
       "<style scoped>\n",
       "    .dataframe tbody tr th:only-of-type {\n",
       "        vertical-align: middle;\n",
       "    }\n",
       "\n",
       "    .dataframe tbody tr th {\n",
       "        vertical-align: top;\n",
       "    }\n",
       "\n",
       "    .dataframe thead th {\n",
       "        text-align: right;\n",
       "    }\n",
       "</style>\n",
       "<table border=\"1\" class=\"dataframe\">\n",
       "  <thead>\n",
       "    <tr style=\"text-align: right;\">\n",
       "      <th></th>\n",
       "      <th></th>\n",
       "      <th>Number_of_stall_visited</th>\n",
       "      <th>Last_Stall_Visited_Number</th>\n",
       "    </tr>\n",
       "    <tr>\n",
       "      <th>Patient_ID</th>\n",
       "      <th>Health_Camp_ID</th>\n",
       "      <th></th>\n",
       "      <th></th>\n",
       "    </tr>\n",
       "  </thead>\n",
       "  <tbody>\n",
       "    <tr>\n",
       "      <th>486530</th>\n",
       "      <th>6527</th>\n",
       "      <td>0</td>\n",
       "      <td>0</td>\n",
       "    </tr>\n",
       "    <tr>\n",
       "      <th>492766</th>\n",
       "      <th>6527</th>\n",
       "      <td>0</td>\n",
       "      <td>0</td>\n",
       "    </tr>\n",
       "    <tr>\n",
       "      <th>510061</th>\n",
       "      <th>6527</th>\n",
       "      <td>0</td>\n",
       "      <td>0</td>\n",
       "    </tr>\n",
       "    <tr>\n",
       "      <th>514624</th>\n",
       "      <th>6527</th>\n",
       "      <td>0</td>\n",
       "      <td>0</td>\n",
       "    </tr>\n",
       "    <tr>\n",
       "      <th>506873</th>\n",
       "      <th>6527</th>\n",
       "      <td>0</td>\n",
       "      <td>0</td>\n",
       "    </tr>\n",
       "    <tr>\n",
       "      <th>489505</th>\n",
       "      <th>6527</th>\n",
       "      <td>0</td>\n",
       "      <td>0</td>\n",
       "    </tr>\n",
       "    <tr>\n",
       "      <th>503497</th>\n",
       "      <th>6527</th>\n",
       "      <td>0</td>\n",
       "      <td>0</td>\n",
       "    </tr>\n",
       "    <tr>\n",
       "      <th>514108</th>\n",
       "      <th>6527</th>\n",
       "      <td>0</td>\n",
       "      <td>0</td>\n",
       "    </tr>\n",
       "    <tr>\n",
       "      <th>515663</th>\n",
       "      <th>6527</th>\n",
       "      <td>0</td>\n",
       "      <td>0</td>\n",
       "    </tr>\n",
       "    <tr>\n",
       "      <th>516582</th>\n",
       "      <th>6527</th>\n",
       "      <td>0</td>\n",
       "      <td>0</td>\n",
       "    </tr>\n",
       "    <tr>\n",
       "      <th>523002</th>\n",
       "      <th>6527</th>\n",
       "      <td>0</td>\n",
       "      <td>0</td>\n",
       "    </tr>\n",
       "    <tr>\n",
       "      <th>525290</th>\n",
       "      <th>6527</th>\n",
       "      <td>0</td>\n",
       "      <td>0</td>\n",
       "    </tr>\n",
       "    <tr>\n",
       "      <th>489805</th>\n",
       "      <th>6527</th>\n",
       "      <td>0</td>\n",
       "      <td>0</td>\n",
       "    </tr>\n",
       "    <tr>\n",
       "      <th>525269</th>\n",
       "      <th>6527</th>\n",
       "      <td>0</td>\n",
       "      <td>0</td>\n",
       "    </tr>\n",
       "    <tr>\n",
       "      <th>525007</th>\n",
       "      <th>6527</th>\n",
       "      <td>0</td>\n",
       "      <td>0</td>\n",
       "    </tr>\n",
       "    <tr>\n",
       "      <th>507508</th>\n",
       "      <th>6527</th>\n",
       "      <td>0</td>\n",
       "      <td>0</td>\n",
       "    </tr>\n",
       "    <tr>\n",
       "      <th>497040</th>\n",
       "      <th>6527</th>\n",
       "      <td>0</td>\n",
       "      <td>0</td>\n",
       "    </tr>\n",
       "    <tr>\n",
       "      <th>496394</th>\n",
       "      <th>6527</th>\n",
       "      <td>0</td>\n",
       "      <td>0</td>\n",
       "    </tr>\n",
       "  </tbody>\n",
       "</table>\n",
       "</div>"
      ],
      "text/plain": [
       "                           Number_of_stall_visited  Last_Stall_Visited_Number\n",
       "Patient_ID Health_Camp_ID                                                    \n",
       "486530     6527                                  0                          0\n",
       "492766     6527                                  0                          0\n",
       "510061     6527                                  0                          0\n",
       "514624     6527                                  0                          0\n",
       "506873     6527                                  0                          0\n",
       "489505     6527                                  0                          0\n",
       "503497     6527                                  0                          0\n",
       "514108     6527                                  0                          0\n",
       "515663     6527                                  0                          0\n",
       "516582     6527                                  0                          0\n",
       "523002     6527                                  0                          0\n",
       "525290     6527                                  0                          0\n",
       "489805     6527                                  0                          0\n",
       "525269     6527                                  0                          0\n",
       "525007     6527                                  0                          0\n",
       "507508     6527                                  0                          0\n",
       "497040     6527                                  0                          0\n",
       "496394     6527                                  0                          0"
      ]
     },
     "execution_count": 47,
     "metadata": {},
     "output_type": "execute_result"
    }
   ],
   "source": [
    "datasets[\"raw_third_health_camp_attended\"][\n",
    "    datasets[\"raw_third_health_camp_attended\"].Number_of_stall_visited == 0\n",
    "]"
   ]
  },
  {
   "cell_type": "markdown",
   "metadata": {},
   "source": [
    "### Assess linkability"
   ]
  },
  {
   "cell_type": "code",
   "execution_count": 48,
   "metadata": {},
   "outputs": [
    {
     "name": "stderr",
     "output_type": "stream",
     "text": [
      "/anaconda3/envs/kedro-session/lib/python3.8/site-packages/ipykernel/ipkernel.py:287: DeprecationWarning: `should_run_async` will not call `transform_cell` automatically in the future. Please pass the result to `transformed_cell` argument and any exception that happen during thetransform in `preprocessing_exc_tuple` in IPython 7.17 and above.\n",
      "  and should_run_async(code)\n"
     ]
    },
    {
     "data": {
      "text/plain": [
       "left_only     32293\n",
       "both           6515\n",
       "right_only        0\n",
       "Name: _merge, dtype: int64"
      ]
     },
     "execution_count": 48,
     "metadata": {},
     "output_type": "execute_result"
    }
   ],
   "source": [
    "datasets[\"raw_patient_profile\"].merge(\n",
    "    datasets[\"raw_third_health_camp_attended\"],\n",
    "    how=\"outer\",\n",
    "    on=\"Patient_ID\",\n",
    "    indicator=True,\n",
    ")._merge.value_counts()"
   ]
  },
  {
   "cell_type": "code",
   "execution_count": 49,
   "metadata": {},
   "outputs": [
    {
     "data": {
      "text/plain": [
       "both          6515\n",
       "left_only       61\n",
       "right_only       0\n",
       "Name: _merge, dtype: int64"
      ]
     },
     "execution_count": 49,
     "metadata": {},
     "output_type": "execute_result"
    }
   ],
   "source": [
    "datasets[\"raw_health_camp_detail\"].merge(\n",
    "    datasets[\"raw_third_health_camp_attended\"],\n",
    "    how=\"outer\",\n",
    "    on=\"Health_Camp_ID\",\n",
    "    indicator=True,\n",
    ")._merge.value_counts()"
   ]
  },
  {
   "cell_type": "markdown",
   "metadata": {},
   "source": [
    "# Construct target variable"
   ]
  },
  {
   "cell_type": "code",
   "execution_count": 50,
   "metadata": {},
   "outputs": [
    {
     "data": {
      "text/plain": [
       "Patient_ID  Health_Camp_ID\n",
       "489652      6578              False\n",
       "507246      6578              False\n",
       "523729      6534              False\n",
       "524931      6535              False\n",
       "521364      6529              False\n",
       "                              ...  \n",
       "500969      6539              False\n",
       "511952      6528              False\n",
       "521236      6554               True\n",
       "518817      6580              False\n",
       "511284      6555              False\n",
       "Name: Health_Score, Length: 75278, dtype: bool"
      ]
     },
     "execution_count": 50,
     "metadata": {},
     "output_type": "execute_result"
    }
   ],
   "source": [
    "target1 = (\n",
    "    datasets[\"raw_train\"]\n",
    "    .join(datasets[\"raw_first_health_camp_attended\"])\n",
    "    .Health_Score.notna()\n",
    ")\n",
    "target1"
   ]
  },
  {
   "cell_type": "code",
   "execution_count": 51,
   "metadata": {},
   "outputs": [
    {
     "data": {
      "text/plain": [
       "False    69060\n",
       "True      6218\n",
       "Name: Health_Score, dtype: int64"
      ]
     },
     "execution_count": 51,
     "metadata": {},
     "output_type": "execute_result"
    }
   ],
   "source": [
    "target1.value_counts()"
   ]
  },
  {
   "cell_type": "code",
   "execution_count": 52,
   "metadata": {},
   "outputs": [
    {
     "data": {
      "text/plain": [
       "Patient_ID  Health_Camp_ID\n",
       "489652      6578              False\n",
       "507246      6578              False\n",
       "523729      6534               True\n",
       "524931      6535              False\n",
       "521364      6529               True\n",
       "                              ...  \n",
       "500969      6539              False\n",
       "511952      6528              False\n",
       "521236      6554              False\n",
       "518817      6580              False\n",
       "511284      6555              False\n",
       "Name: Health Score, Length: 75278, dtype: bool"
      ]
     },
     "execution_count": 52,
     "metadata": {},
     "output_type": "execute_result"
    }
   ],
   "source": [
    "target2 = (\n",
    "    datasets[\"raw_train\"]\n",
    "    .join(datasets[\"raw_second_health_camp_attended\"])[\"Health Score\"]\n",
    "    .notna()\n",
    ")\n",
    "target2"
   ]
  },
  {
   "cell_type": "code",
   "execution_count": 53,
   "metadata": {},
   "outputs": [
    {
     "data": {
      "text/plain": [
       "False    67459\n",
       "True      7819\n",
       "Name: Health Score, dtype: int64"
      ]
     },
     "execution_count": 53,
     "metadata": {},
     "output_type": "execute_result"
    }
   ],
   "source": [
    "target2.value_counts()"
   ]
  },
  {
   "cell_type": "code",
   "execution_count": 54,
   "metadata": {},
   "outputs": [
    {
     "data": {
      "text/plain": [
       "Patient_ID  Health_Camp_ID\n",
       "489652      6578               True\n",
       "507246      6578              False\n",
       "523729      6534              False\n",
       "524931      6535              False\n",
       "521364      6529              False\n",
       "                              ...  \n",
       "500969      6539              False\n",
       "511952      6528               True\n",
       "521236      6554              False\n",
       "518817      6580              False\n",
       "511284      6555              False\n",
       "Name: Number_of_stall_visited, Length: 75278, dtype: bool"
      ]
     },
     "execution_count": 54,
     "metadata": {},
     "output_type": "execute_result"
    }
   ],
   "source": [
    "target3 = (\n",
    "    datasets[\"raw_train\"]\n",
    "    .join(datasets[\"raw_third_health_camp_attended\"])\n",
    "    .Number_of_stall_visited > 0\n",
    ")\n",
    "target3"
   ]
  },
  {
   "cell_type": "code",
   "execution_count": 55,
   "metadata": {},
   "outputs": [
    {
     "name": "stderr",
     "output_type": "stream",
     "text": [
      "/anaconda3/envs/kedro-session/lib/python3.8/site-packages/ipykernel/ipkernel.py:287: DeprecationWarning: `should_run_async` will not call `transform_cell` automatically in the future. Please pass the result to `transformed_cell` argument and any exception that happen during thetransform in `preprocessing_exc_tuple` in IPython 7.17 and above.\n",
      "  and should_run_async(code)\n"
     ]
    },
    {
     "data": {
      "text/plain": [
       "False    68781\n",
       "True      6497\n",
       "Name: Number_of_stall_visited, dtype: int64"
      ]
     },
     "execution_count": 55,
     "metadata": {},
     "output_type": "execute_result"
    }
   ],
   "source": [
    "target3.value_counts()"
   ]
  },
  {
   "cell_type": "code",
   "execution_count": 56,
   "metadata": {},
   "outputs": [
    {
     "data": {
      "text/plain": [
       "0    54744\n",
       "1    20534\n",
       "dtype: int64"
      ]
     },
     "execution_count": 56,
     "metadata": {},
     "output_type": "execute_result"
    }
   ],
   "source": [
    "pd.DataFrame({\"target1\": target1, \"target2\": target2, \"target3\": target3}).sum(\n",
    "    axis=1\n",
    ").value_counts()"
   ]
  },
  {
   "cell_type": "code",
   "execution_count": null,
   "metadata": {},
   "outputs": [],
   "source": []
  }
 ],
 "metadata": {
  "kernelspec": {
   "display_name": "HealthcareAnalytics",
   "language": "python",
   "name": "python3"
  },
  "language_info": {
   "codemirror_mode": {
    "name": "ipython",
    "version": 3
   },
   "file_extension": ".py",
   "mimetype": "text/x-python",
   "name": "python",
   "nbconvert_exporter": "python",
   "pygments_lexer": "ipython3",
   "version": "3.8.5"
  }
 },
 "nbformat": 4,
 "nbformat_minor": 4
}
